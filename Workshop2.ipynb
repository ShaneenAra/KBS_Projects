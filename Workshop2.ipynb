{
 "cells": [
  {
   "metadata": {},
   "cell_type": "markdown",
   "source": [
    "# This is a sample Jupyter Notebook\n",
    "\n",
    "Below is an example of a code cell. \n",
    "Put your cursor into the cell and press Shift+Enter to execute it and select the next one, or click 'Run Cell' button.\n",
    "\n",
    "Press Double Shift to search everywhere for classes, files, tool windows, actions, and settings.\n",
    "\n",
    "To learn more about Jupyter Notebooks in PyCharm, see [help](https://www.jetbrains.com/help/pycharm/ipython-notebook-support.html).\n",
    "For an overview of PyCharm, go to Help -> Learn IDE features or refer to [our documentation](https://www.jetbrains.com/help/pycharm/getting-started.html)."
   ],
   "id": "8a77807f92f26ee"
  },
  {
   "metadata": {
    "ExecuteTime": {
     "end_time": "2025-09-11T06:29:24.634831Z",
     "start_time": "2025-09-11T06:29:24.626742Z"
    }
   },
   "cell_type": "code",
   "source": [
    "from pandas.core.dtypes.dtypes import str_type\n",
    "\n",
    "print(\"Hello World!\")\n",
    "a = 0\n",
    "b = \"mango\"\n",
    "c  = 3.94\n",
    "list = [\"apple\", \"banana\", \"mango\"]\n",
    "person = True\n",
    "tuple = (\"a\", \"b\")"
   ],
   "id": "fbc121e30a2defb3",
   "outputs": [
    {
     "name": "stdout",
     "output_type": "stream",
     "text": [
      "Hello World!\n"
     ]
    }
   ],
   "execution_count": 7
  },
  {
   "metadata": {
    "ExecuteTime": {
     "end_time": "2025-09-11T06:42:23.422659Z",
     "start_time": "2025-09-11T06:42:23.413325Z"
    }
   },
   "cell_type": "code",
   "source": [
    "var = \"Shaneen\"\n",
    "print(\"Hi\", var + \"!\" + \" \" +\"You wanna have some!\",  b)"
   ],
   "id": "4ff3c338c2c2526b",
   "outputs": [
    {
     "name": "stdout",
     "output_type": "stream",
     "text": [
      "Hi Shaneen! You wanna have some! mango\n"
     ]
    }
   ],
   "execution_count": 13
  },
  {
   "metadata": {
    "ExecuteTime": {
     "end_time": "2025-09-11T06:43:31.497696Z",
     "start_time": "2025-09-11T06:43:31.489166Z"
    }
   },
   "cell_type": "code",
   "source": [
    "a = 10\n",
    "b = 20\n",
    "sum = a + b\n",
    "print(\"Sum of a and b is\", sum)"
   ],
   "id": "e369219114caf2b9",
   "outputs": [
    {
     "name": "stdout",
     "output_type": "stream",
     "text": [
      "Sum of a and b is 30\n"
     ]
    }
   ],
   "execution_count": 17
  },
  {
   "metadata": {
    "ExecuteTime": {
     "end_time": "2025-09-11T06:45:53.947136Z",
     "start_time": "2025-09-11T06:45:53.938295Z"
    }
   },
   "cell_type": "code",
   "source": [
    "s1 = \"Good\"\n",
    "s2 = \"Morning\"\n",
    "print(s1, s2)\n",
    "print(s1 + \" \" + s2)"
   ],
   "id": "42228a0d83323d05",
   "outputs": [
    {
     "name": "stdout",
     "output_type": "stream",
     "text": [
      "Good Morning\n",
      "Good Morning\n"
     ]
    }
   ],
   "execution_count": 21
  },
  {
   "metadata": {
    "ExecuteTime": {
     "end_time": "2025-09-12T01:47:24.796119Z",
     "start_time": "2025-09-12T01:47:24.789374Z"
    }
   },
   "cell_type": "code",
   "source": [
    "sa1 = 100\n",
    "sa1 += 200\n",
    "print(sa1)\n"
   ],
   "id": "c9e4d123637e50ef",
   "outputs": [
    {
     "name": "stdout",
     "output_type": "stream",
     "text": [
      "300\n"
     ]
    }
   ],
   "execution_count": 2
  },
  {
   "metadata": {
    "ExecuteTime": {
     "end_time": "2025-09-12T02:33:47.515361Z",
     "start_time": "2025-09-12T02:33:47.504859Z"
    }
   },
   "cell_type": "code",
   "source": [
    "test = \" \"\n",
    "print(bool(test))"
   ],
   "id": "ac7195269c4b830f",
   "outputs": [
    {
     "name": "stdout",
     "output_type": "stream",
     "text": [
      "True\n"
     ]
    }
   ],
   "execution_count": 5
  },
  {
   "metadata": {
    "ExecuteTime": {
     "end_time": "2025-09-12T02:34:46.508925Z",
     "start_time": "2025-09-12T02:34:46.498924Z"
    }
   },
   "cell_type": "code",
   "source": [
    "False == 0\n",
    "\n",
    "'13' == 13"
   ],
   "id": "faff9ad2f2e6ad60",
   "outputs": [
    {
     "data": {
      "text/plain": [
       "False"
      ]
     },
     "execution_count": 7,
     "metadata": {},
     "output_type": "execute_result"
    }
   ],
   "execution_count": 7
  },
  {
   "metadata": {
    "ExecuteTime": {
     "end_time": "2025-09-12T02:41:08.207525Z",
     "start_time": "2025-09-12T02:41:08.197520Z"
    }
   },
   "cell_type": "code",
   "source": "-53 == 5",
   "id": "a94a7cd7c70048c1",
   "outputs": [
    {
     "data": {
      "text/plain": [
       "False"
      ]
     },
     "execution_count": 18,
     "metadata": {},
     "output_type": "execute_result"
    }
   ],
   "execution_count": 18
  },
  {
   "metadata": {
    "ExecuteTime": {
     "end_time": "2025-09-12T02:40:43.015857Z",
     "start_time": "2025-09-12T02:40:43.007643Z"
    }
   },
   "cell_type": "code",
   "source": "print(True == 1)\n",
   "id": "55d43619a970c2c",
   "outputs": [
    {
     "name": "stdout",
     "output_type": "stream",
     "text": [
      "True\n"
     ]
    }
   ],
   "execution_count": 16
  },
  {
   "metadata": {
    "ExecuteTime": {
     "end_time": "2025-09-12T02:41:06.021532Z",
     "start_time": "2025-09-12T02:41:06.010704Z"
    }
   },
   "cell_type": "code",
   "source": "print('13' == \" \")",
   "id": "4625c962b8236e35",
   "outputs": [
    {
     "name": "stdout",
     "output_type": "stream",
     "text": [
      "False\n"
     ]
    }
   ],
   "execution_count": 17
  },
  {
   "metadata": {
    "ExecuteTime": {
     "end_time": "2025-09-12T02:44:28.502161Z",
     "start_time": "2025-09-12T02:44:28.493983Z"
    }
   },
   "cell_type": "code",
   "source": "print('13' == \" 13\")",
   "id": "b123de5120c8a7f0",
   "outputs": [
    {
     "name": "stdout",
     "output_type": "stream",
     "text": [
      "False\n"
     ]
    }
   ],
   "execution_count": 20
  },
  {
   "metadata": {
    "ExecuteTime": {
     "end_time": "2025-09-12T02:44:40.931554Z",
     "start_time": "2025-09-12T02:44:40.922138Z"
    }
   },
   "cell_type": "code",
   "source": "3 < 2",
   "id": "6466c95dcf57bfce",
   "outputs": [
    {
     "data": {
      "text/plain": [
       "False"
      ]
     },
     "execution_count": 22,
     "metadata": {},
     "output_type": "execute_result"
    }
   ],
   "execution_count": 22
  },
  {
   "metadata": {
    "ExecuteTime": {
     "end_time": "2025-09-12T02:44:58.106987Z",
     "start_time": "2025-09-12T02:44:58.096934Z"
    }
   },
   "cell_type": "code",
   "source": "3<= 3",
   "id": "70faf4cf43c1f98c",
   "outputs": [
    {
     "data": {
      "text/plain": [
       "True"
      ]
     },
     "execution_count": 24,
     "metadata": {},
     "output_type": "execute_result"
    }
   ],
   "execution_count": 24
  },
  {
   "metadata": {
    "ExecuteTime": {
     "end_time": "2025-09-12T02:45:24.818703Z",
     "start_time": "2025-09-12T02:45:24.808604Z"
    }
   },
   "cell_type": "code",
   "source": "\"shaneen\" == \"shaneen\"",
   "id": "6eb4736aa219a53c",
   "outputs": [
    {
     "data": {
      "text/plain": [
       "True"
      ]
     },
     "execution_count": 26,
     "metadata": {},
     "output_type": "execute_result"
    }
   ],
   "execution_count": 26
  },
  {
   "metadata": {
    "ExecuteTime": {
     "end_time": "2025-09-12T02:46:42.463567Z",
     "start_time": "2025-09-12T02:46:42.453824Z"
    }
   },
   "cell_type": "code",
   "source": "\"jaspreet\" != \"shaneen\"",
   "id": "728339858a3d1da9",
   "outputs": [
    {
     "data": {
      "text/plain": [
       "True"
      ]
     },
     "execution_count": 29,
     "metadata": {},
     "output_type": "execute_result"
    }
   ],
   "execution_count": 29
  },
  {
   "metadata": {
    "ExecuteTime": {
     "end_time": "2025-09-12T02:57:29.841423Z",
     "start_time": "2025-09-12T02:57:29.831530Z"
    }
   },
   "cell_type": "code",
   "source": "'abc' == \"ABC\"",
   "id": "8fe6c2d851b8a69",
   "outputs": [
    {
     "data": {
      "text/plain": [
       "False"
      ]
     },
     "execution_count": 31,
     "metadata": {},
     "output_type": "execute_result"
    }
   ],
   "execution_count": 31
  },
  {
   "metadata": {
    "ExecuteTime": {
     "end_time": "2025-09-12T02:58:49.982103Z",
     "start_time": "2025-09-12T02:58:49.974726Z"
    }
   },
   "cell_type": "code",
   "source": [
    "a = 20\n",
    "b = 30\n",
    "if a<b:\n",
    "    print(a)"
   ],
   "id": "48e936cada73d4da",
   "outputs": [
    {
     "name": "stdout",
     "output_type": "stream",
     "text": [
      "20\n"
     ]
    }
   ],
   "execution_count": 33
  },
  {
   "metadata": {
    "ExecuteTime": {
     "end_time": "2025-09-12T03:07:33.559369Z",
     "start_time": "2025-09-12T03:07:24.387321Z"
    }
   },
   "cell_type": "code",
   "source": [
    "day = input(\"Enter a day between Saturday to Friday: \")\n",
    "if day == \"monday\":\n",
    "    print(\"It's\" + \" \" + day + \"\\n\" + \"So, attend the workshop!!\")\n",
    "else:\n",
    "    print(\"It's\" + \" \" + day + \"\\n\" + \"So, don't attend the workshop!!\")\n"
   ],
   "id": "db3feeaf266c1190",
   "outputs": [
    {
     "name": "stdout",
     "output_type": "stream",
     "text": [
      "It's Saturday\n",
      "So, don't attend the workshop!!\n"
     ]
    }
   ],
   "execution_count": 39
  },
  {
   "metadata": {
    "ExecuteTime": {
     "end_time": "2025-09-12T03:19:17.069915Z",
     "start_time": "2025-09-12T03:19:12.682322Z"
    }
   },
   "cell_type": "code",
   "source": [
    "number = int(input(\"Enter the number:\"))\n",
    "if number == 50:\n",
    "   print(\"The given number is 50!!\\n\")\n",
    "else:\n",
    "    print(\"The given number is not 50!!\\n\")"
   ],
   "id": "2f1a20a7ac376b33",
   "outputs": [
    {
     "name": "stdout",
     "output_type": "stream",
     "text": [
      "The given number is 50!!\n",
      "\n"
     ]
    }
   ],
   "execution_count": 49
  },
  {
   "metadata": {
    "ExecuteTime": {
     "end_time": "2025-09-15T15:01:05.361435Z",
     "start_time": "2025-09-15T15:01:01.317284Z"
    }
   },
   "cell_type": "code",
   "source": [
    "number = int(input(\"Enter the number:\"))\n",
    "if number == 50:\n",
    "   print(\"Correct number\")\n",
    "else:\n",
    "    print(\"Incorrect number\")"
   ],
   "id": "914b63d7162ba0f2",
   "outputs": [
    {
     "name": "stdout",
     "output_type": "stream",
     "text": [
      "Incorrect number\n"
     ]
    }
   ],
   "execution_count": 4
  },
  {
   "metadata": {
    "ExecuteTime": {
     "end_time": "2025-09-12T03:35:41.338499Z",
     "start_time": "2025-09-12T03:35:37.395989Z"
    }
   },
   "cell_type": "code",
   "source": [
    "score = int(input(\"Enter the score:\"))\n",
    "if score >= 90:\n",
    "    print(\"Grade A\")\n",
    "elif score >= 70:\n",
    "    print(\"Grade B\")\n",
    "elif score >= 50:\n",
    "    print(\"Grade C\")\n",
    "else:\n",
    "    print(\"Grade D\")"
   ],
   "id": "e7645b0806ef7cd0",
   "outputs": [
    {
     "name": "stdout",
     "output_type": "stream",
     "text": [
      "Grade B\n"
     ]
    }
   ],
   "execution_count": 55
  },
  {
   "metadata": {
    "ExecuteTime": {
     "end_time": "2025-09-12T03:40:00.399403Z",
     "start_time": "2025-09-12T03:39:55.391722Z"
    }
   },
   "cell_type": "code",
   "source": [
    "score = int(input(\"Enter the score:\"))\n",
    "if score >= 90:\n",
    "    print(\"Grade A\")\n",
    "if score >= 70:\n",
    "    print(\"Grade B\")\n",
    "if score >= 50:\n",
    "    print(\"Grade C\")\n",
    "else:\n",
    "    print(\"Grade D\")"
   ],
   "id": "f09de479b91f047b",
   "outputs": [
    {
     "name": "stdout",
     "output_type": "stream",
     "text": [
      "Grade B\n",
      "Grade C\n"
     ]
    }
   ],
   "execution_count": 57
  },
  {
   "metadata": {
    "ExecuteTime": {
     "end_time": "2025-09-12T03:49:42.178311Z",
     "start_time": "2025-09-12T03:49:37.150900Z"
    }
   },
   "cell_type": "code",
   "source": [
    "print(\"Enter age:\")\n",
    "age = int(input())\n",
    "print(age)"
   ],
   "id": "81eebd02b6baee6e",
   "outputs": [
    {
     "name": "stdout",
     "output_type": "stream",
     "text": [
      "Enter age:\n",
      "50\n"
     ]
    }
   ],
   "execution_count": 60
  },
  {
   "metadata": {
    "ExecuteTime": {
     "end_time": "2025-09-15T14:57:35.688365Z",
     "start_time": "2025-09-15T14:57:35.678207Z"
    }
   },
   "cell_type": "code",
   "source": [
    "print(not False)\n",
    "print(not True)"
   ],
   "id": "4bc786bc527dd442",
   "outputs": [
    {
     "name": "stdout",
     "output_type": "stream",
     "text": [
      "True\n",
      "False\n"
     ]
    }
   ],
   "execution_count": 1
  },
  {
   "metadata": {
    "ExecuteTime": {
     "end_time": "2025-09-15T15:01:18.399398Z",
     "start_time": "2025-09-15T15:01:14.417804Z"
    }
   },
   "cell_type": "code",
   "source": [
    "number = int(input(\"Enter the number: \"))\n",
    "if number == 50:\n",
    "    print(\"Correct number\")\n",
    "else:\n",
    "    print(\"Incorrect number\")\n"
   ],
   "id": "f8bf8b10a6999859",
   "outputs": [
    {
     "name": "stdout",
     "output_type": "stream",
     "text": [
      "Correct number\n"
     ]
    }
   ],
   "execution_count": 5
  },
  {
   "metadata": {
    "ExecuteTime": {
     "end_time": "2025-09-15T15:04:26.089557Z",
     "start_time": "2025-09-15T15:04:22.363071Z"
    }
   },
   "cell_type": "code",
   "source": [
    "number = int(input())\n",
    "\n",
    "if number % 5 == 0:\n",
    "    print(\"Divisible by 5\")\n",
    "else:\n",
    "    print(\"Not divisible by 5\")\n"
   ],
   "id": "d7311723e3390cb1",
   "outputs": [
    {
     "name": "stdout",
     "output_type": "stream",
     "text": [
      "Divisible by 5\n"
     ]
    }
   ],
   "execution_count": 9
  },
  {
   "metadata": {
    "ExecuteTime": {
     "end_time": "2025-09-15T15:16:10.584510Z",
     "start_time": "2025-09-15T15:16:06.177068Z"
    }
   },
   "cell_type": "code",
   "source": [
    "number = int(input())\n",
    "\n",
    "if number > 100:\n",
    "    print(\"Greater than 100\")\n",
    "elif number < 100:\n",
    "    print(\"Less than 100\")\n",
    "else:\n",
    "    print(\"Equal to 100\")\n"
   ],
   "id": "91a4c5056d6466d2",
   "outputs": [
    {
     "name": "stdout",
     "output_type": "stream",
     "text": [
      "Greater than 100\n"
     ]
    }
   ],
   "execution_count": 12
  },
  {
   "metadata": {
    "ExecuteTime": {
     "end_time": "2025-09-15T15:20:45.410120Z",
     "start_time": "2025-09-15T15:20:32.381862Z"
    }
   },
   "cell_type": "code",
   "source": [
    "day = input()\n",
    "\n",
    "if day == \"Monday\":\n",
    "    print(\"It’s Monday\")\n",
    "else:\n",
    "    print(\"It’s not Monday\")\n",
    "\n",
    "\n",
    "number = int(input())\n",
    "\n",
    "if number < 70:\n",
    "    print(\"Less than 70\")\n",
    "elif number > 70:\n",
    "    print(\"Greater than 70\")\n",
    "else:\n",
    "    print(\"Equal to 70\")\n"
   ],
   "id": "99d2c90218a2f68b",
   "outputs": [
    {
     "name": "stdout",
     "output_type": "stream",
     "text": [
      "It’s not Monday\n",
      "Less than 70\n"
     ]
    }
   ],
   "execution_count": 16
  },
  {
   "metadata": {
    "ExecuteTime": {
     "end_time": "2025-09-15T15:20:54.321412Z",
     "start_time": "2025-09-15T15:20:50.476310Z"
    }
   },
   "cell_type": "code",
   "source": [
    "number = int(input())\n",
    "\n",
    "if number % 2 == 0:\n",
    "    print(\"Even\")\n",
    "else:\n",
    "    print(\"Odd\")\n",
    "\n",
    "\n",
    "number = int(input())\n",
    "\n",
    "if 10 <= number <= 20:\n",
    "    print(\"Within range\")\n",
    "else:\n",
    "    print(\"Out of range\")\n",
    "\n",
    "\n",
    "number = int(input())\n",
    "\n",
    "if number == 40 or number == 60:\n",
    "    print(\"Match\")\n",
    "else:\n",
    "    print(\"No match\")\n",
    "\n",
    "\n",
    "number = int(input())\n",
    "\n",
    "if number > 0:\n",
    "    if number % 2 == 0:\n",
    "        print(\"Positive Even\")\n",
    "    else:\n",
    "        print(\"Positive Odd\")\n",
    "else:\n",
    "    print(\"Not positive\")\n",
    "\n",
    "\n",
    "\n"
   ],
   "id": "c3039b647a9b89ec",
   "outputs": [
    {
     "name": "stdout",
     "output_type": "stream",
     "text": [
      "Odd\n"
     ]
    }
   ],
   "execution_count": 17
  },
  {
   "metadata": {
    "ExecuteTime": {
     "end_time": "2025-09-16T05:15:53.150654Z",
     "start_time": "2025-09-16T05:15:53.138662Z"
    }
   },
   "cell_type": "code",
   "source": [
    "names = [\"shaneen\",\"neha\", \"jaspreet\"]\n",
    "print(names)\n",
    "\n",
    "numbers = [100, 300, 30]\n",
    "print(numbers)\n",
    "\n",
    "\n",
    "x = [\"shaneen\", 100]\n",
    "print(x)\n",
    "\n",
    "y = [100, 200, \"Nipa\"]\n",
    "print(y)\n",
    "\n",
    "z = x + y\n",
    "print(z)\n",
    "\n",
    "#declaring a list\n",
    "list = []\n"
   ],
   "id": "62a2b2ead9d2c0",
   "outputs": [
    {
     "name": "stdout",
     "output_type": "stream",
     "text": [
      "['shaneen', 'neha', 'jaspreet']\n",
      "[100, 300, 30]\n",
      "['shaneen', 100]\n",
      "[100, 200, 'Nipa']\n",
      "['shaneen', 100, 100, 200, 'Nipa']\n"
     ]
    }
   ],
   "execution_count": 5
  },
  {
   "metadata": {
    "ExecuteTime": {
     "end_time": "2025-09-16T05:30:13.557602Z",
     "start_time": "2025-09-16T05:30:13.546790Z"
    }
   },
   "cell_type": "code",
   "source": [
    "students = [\"Jing\", \"Jim\", \"Kerrie\", \"Rakesh\"]\n",
    "print(students)\n",
    "\n",
    "\n",
    "\n",
    "print(students[0])\n",
    "print(students[1])\n",
    "print(students[2])\n",
    "print(students[3])\n",
    "\n",
    "#using for loop\n",
    "for i in range(len(students)):\n",
    "    print(students[i])\n",
    "\n",
    "#negative indexing\n",
    "print(students[-4])\n",
    "print(students[-3])\n",
    "print(students[-2])\n",
    "print(students[-1])\n",
    "\n",
    "#printing with loop - neg indexing\n",
    "for i in range(len(students)):\n",
    "    print(students[i])\n",
    "\n"
   ],
   "id": "b5eb15d5b2247c56",
   "outputs": [
    {
     "name": "stdout",
     "output_type": "stream",
     "text": [
      "['Jing', 'Jim', 'Kerrie', 'Rakesh']\n",
      "Jing\n",
      "Jim\n",
      "Kerrie\n",
      "Rakesh\n",
      "Jing\n",
      "Jim\n",
      "Kerrie\n",
      "Rakesh\n"
     ]
    }
   ],
   "execution_count": 9
  },
  {
   "metadata": {
    "ExecuteTime": {
     "end_time": "2025-09-16T05:41:37.336621Z",
     "start_time": "2025-09-16T05:41:37.326325Z"
    }
   },
   "cell_type": "code",
   "source": [
    "#assesmnet in class\n",
    "#creating a list with multiple type\n",
    "num = [\"shaneen\", \"jaspreet\", 100, True, 10, 20,30, 40]\n",
    "#print the whole list\n",
    "print(num)\n",
    "#printing by index\n",
    "for i in range(len(num)):\n",
    "    print(num[i])\n"
   ],
   "id": "98a792db28c1f956",
   "outputs": [
    {
     "name": "stdout",
     "output_type": "stream",
     "text": [
      "['shaneen', 'jaspreet', 100, True, 10, 20, 30, 40]\n",
      "shaneen\n",
      "jaspreet\n",
      "100\n",
      "True\n",
      "10\n",
      "20\n",
      "30\n",
      "40\n"
     ]
    }
   ],
   "execution_count": 12
  },
  {
   "metadata": {
    "ExecuteTime": {
     "end_time": "2025-09-16T05:49:13.783411Z",
     "start_time": "2025-09-16T05:49:13.773668Z"
    }
   },
   "cell_type": "code",
   "source": [
    "sports = [\"basketball\", \"scoccar\", \"tennis\", \"cricket\"]\n",
    "print(sports.append(\"football)\"))\n",
    "\n",
    "grades = [35, 60, 65, 85, 67]\n",
    "grades += [76, 78, 52]\n",
    "grades.extend([68,72])\n",
    "print(grades)\n",
    "print(grades[9])\n"
   ],
   "id": "29ca3fca78d181b7",
   "outputs": [
    {
     "name": "stdout",
     "output_type": "stream",
     "text": [
      "None\n",
      "[35, 60, 65, 85, 67, 76, 78, 52, 68, 72]\n",
      "72\n"
     ]
    }
   ],
   "execution_count": 19
  },
  {
   "metadata": {
    "ExecuteTime": {
     "end_time": "2025-09-16T06:27:53.894296Z",
     "start_time": "2025-09-16T06:27:53.884430Z"
    }
   },
   "cell_type": "code",
   "source": [
    "grades = [35, 60, 65, 85, 35]\n",
    "grades[-2] = 50\n",
    "print(grades)\n",
    "grades.remove(35)\n",
    "print(grades)\n",
    "grades.pop(0)\n",
    "print(grades)\n",
    "del grades[0]\n",
    "print(grades)\n",
    "grades.pop()\n",
    "print(grades)\n"
   ],
   "id": "6e8bd28a381f8780",
   "outputs": [
    {
     "name": "stdout",
     "output_type": "stream",
     "text": [
      "[35, 60, 65, 50, 35]\n",
      "[60, 65, 50, 35]\n",
      "[65, 50, 35]\n",
      "[50, 35]\n",
      "[50]\n"
     ]
    }
   ],
   "execution_count": 29
  },
  {
   "metadata": {
    "ExecuteTime": {
     "end_time": "2025-09-16T09:08:23.772076Z",
     "start_time": "2025-09-16T09:08:23.758730Z"
    }
   },
   "cell_type": "code",
   "source": [
    "#two dimensional list\n",
    "gradebook = [['jing', 35], ['jim', 50], ['Kerrie', 65], ['Rakesh', 85]]\n",
    "print(gradebook)\n",
    "gradebook[-4][-1] = 56\n",
    "print(gradebook)\n",
    "gradebook[-4][1] = 56\n",
    "print(gradebook)\n",
    "gradebook[0][-1] = 56\n",
    "print(gradebook)\n",
    "gradebook[0][1] = 56\n",
    "print(gradebook)\n",
    "\n",
    "gradebook.extend([4]) == [\"shaneen\", 24]\n",
    "print(gradebook)\n",
    "\n",
    "\n",
    "\n"
   ],
   "id": "449ccee1febd033e",
   "outputs": [
    {
     "name": "stdout",
     "output_type": "stream",
     "text": [
      "[['jing', 35], ['jim', 50], ['Kerrie', 65], ['Rakesh', 85]]\n",
      "[['jing', 56], ['jim', 50], ['Kerrie', 65], ['Rakesh', 85]]\n",
      "[['jing', 56], ['jim', 50], ['Kerrie', 65], ['Rakesh', 85]]\n",
      "[['jing', 56], ['jim', 50], ['Kerrie', 65], ['Rakesh', 85]]\n",
      "[['jing', 56], ['jim', 50], ['Kerrie', 65], ['Rakesh', 85]]\n",
      "[['jing', 56], ['jim', 50], ['Kerrie', 65], ['Rakesh', 85], 4]\n"
     ]
    }
   ],
   "execution_count": 1
  },
  {
   "metadata": {
    "ExecuteTime": {
     "end_time": "2025-09-16T07:02:09.850649Z",
     "start_time": "2025-09-16T07:02:09.841609Z"
    }
   },
   "cell_type": "code",
   "source": [
    "students = [\"jing\", \"Jim\",\"Kerrie\", \"Rakesh\"]\n",
    "grades = [35, 50, 65, 85]\n",
    "#gradebook_zip = zip(students, grades)\n",
    "#print(gradebook_zip)-->the outout will be <zip object at 0x0000025BA5EADE40>\n",
    "\n",
    "gradebook_zip = list(zip(students, grades))\n",
    "print(gradebook_zip)\n",
    "\n",
    "#tuple_s = (\"jing\", \"Jim\",\"Kerrie\", \"Rakesh\")\n",
    "#tuple_s.append(\"shaneen\")\n",
    "#print(tuple_s)#AttributeError: 'tuple' object has no attribute 'append'"
   ],
   "id": "7dffde43f8363d6f",
   "outputs": [
    {
     "name": "stdout",
     "output_type": "stream",
     "text": [
      "[('jing', 35), ('Jim', 50), ('Kerrie', 65), ('Rakesh', 85)]\n"
     ]
    }
   ],
   "execution_count": 43
  },
  {
   "metadata": {
    "ExecuteTime": {
     "end_time": "2025-09-16T07:09:20.422948Z",
     "start_time": "2025-09-16T07:09:20.410955Z"
    }
   },
   "cell_type": "code",
   "source": [
    "#count function in a list\n",
    "fruits = [\"apple\",\"banana\", \"apple\", \"mango\", \"apple\", \"cherry\"]\n",
    "print(fruits.count(\"apple\"))\n",
    "print(fruits.count(\"banana\"))\n",
    "\n",
    "#insert\n",
    "fruits.insert(1, \"Orange\")\n",
    "print(fruits)\n",
    "\n",
    "#SORT FUNCTION\n",
    "num = [5,2,1,3,6,7]\n",
    "num.sort()\n",
    "print(num)\n",
    "\n",
    "#sorted function\n",
    "new_list=sorted(num)\n",
    "print(new_list)\n",
    "print(num)\n"
   ],
   "id": "7f689ad82b88d1d5",
   "outputs": [
    {
     "name": "stdout",
     "output_type": "stream",
     "text": [
      "3\n",
      "1\n",
      "['apple', 'Orange', 'banana', 'apple', 'mango', 'apple', 'cherry']\n",
      "[1, 2, 3, 5, 6, 7]\n",
      "[1, 2, 3, 5, 6, 7]\n",
      "[1, 2, 3, 5, 6, 7]\n"
     ]
    }
   ],
   "execution_count": 47
  },
  {
   "metadata": {
    "ExecuteTime": {
     "end_time": "2025-09-16T07:27:02.199552Z",
     "start_time": "2025-09-16T07:27:02.186378Z"
    }
   },
   "cell_type": "code",
   "source": [
    "num = [0,1,2,3,4,5,6.7,8,9]\n",
    "print(num[0:9])\n",
    "print(num[2:])\n",
    "print(num[:6])\n",
    "print(num[:])\n",
    "\n",
    "\n"
   ],
   "id": "ab64ba58ea44ce3f",
   "outputs": [
    {
     "name": "stdout",
     "output_type": "stream",
     "text": [
      "[0, 1, 2, 3, 4, 5, 6.7, 8, 9]\n",
      "[2, 3, 4, 5, 6.7, 8, 9]\n",
      "[0, 1, 2, 3, 4, 5]\n",
      "[0, 1, 2, 3, 4, 5, 6.7, 8, 9]\n",
      "{65, 50, 35, 85}\n"
     ]
    }
   ],
   "execution_count": 53
  },
  {
   "metadata": {
    "ExecuteTime": {
     "end_time": "2025-09-16T07:27:24.408219Z",
     "start_time": "2025-09-16T07:27:24.399866Z"
    }
   },
   "cell_type": "code",
   "source": [
    "#sets\n",
    "grades_set = {35, 50, 65, 85, 85, 85}\n",
    "print(grades_set)"
   ],
   "id": "39792693037a00a3",
   "outputs": [
    {
     "name": "stdout",
     "output_type": "stream",
     "text": [
      "{65, 50, 35, 85}\n"
     ]
    }
   ],
   "execution_count": 54
  },
  {
   "metadata": {
    "ExecuteTime": {
     "end_time": "2025-09-16T07:41:03.577438Z",
     "start_time": "2025-09-16T07:41:03.568410Z"
    }
   },
   "cell_type": "code",
   "source": [
    "gradebook_dict = {\n",
    "    \"jing\" : {\n",
    "        'address': 'Fake Rd',\n",
    "        'student_id': 12345,\n",
    "        'ass1_grade': 20,\n",
    "        'ass2_grade': 15,\n",
    "        'ass3_grade': 0,\n",
    "        'final_grade': 35},\n",
    "    'Jim': 50,\n",
    "    'Kerrie': 65,\n",
    "    'Rakesh': 85}\n"
   ],
   "id": "5ea3995eb7ae45bf",
   "outputs": [],
   "execution_count": 56
  },
  {
   "metadata": {
    "ExecuteTime": {
     "end_time": "2025-09-19T01:20:17.877890Z",
     "start_time": "2025-09-19T01:20:17.816653Z"
    }
   },
   "cell_type": "code",
   "source": [
    "print(grades_set)\n",
    "gradebook_dict = {\n",
    "    \"101\": {\n",
    "        'address': 'Fake Rd',\n",
    "        'name': \"Jing\",\n",
    "        'ass1_grade': 20,\n",
    "        'ass2_grade': 15,\n",
    "        'ass3_grade': 0,\n",
    "        'final_grade': 35},\n",
    "     102 : \"Jim\",\n",
    "     103: \"Kerrie\",\n",
    "     104 : \"Rakesh\"}"
   ],
   "id": "b4dc034f4884a7af",
   "outputs": [
    {
     "ename": "NameError",
     "evalue": "name 'grades_set' is not defined",
     "output_type": "error",
     "traceback": [
      "\u001B[31m---------------------------------------------------------------------------\u001B[39m",
      "\u001B[31mNameError\u001B[39m                                 Traceback (most recent call last)",
      "\u001B[36mCell\u001B[39m\u001B[36m \u001B[39m\u001B[32mIn[3]\u001B[39m\u001B[32m, line 1\u001B[39m\n\u001B[32m----> \u001B[39m\u001B[32m1\u001B[39m \u001B[38;5;28mprint\u001B[39m(\u001B[43mgrades_set\u001B[49m)\n\u001B[32m      2\u001B[39m gradebook_dict = {\n\u001B[32m      3\u001B[39m     \u001B[33m\"\u001B[39m\u001B[33m101\u001B[39m\u001B[33m\"\u001B[39m: {\n\u001B[32m      4\u001B[39m         \u001B[33m'\u001B[39m\u001B[33maddress\u001B[39m\u001B[33m'\u001B[39m: \u001B[33m'\u001B[39m\u001B[33mFake Rd\u001B[39m\u001B[33m'\u001B[39m,\n\u001B[32m   (...)\u001B[39m\u001B[32m     11\u001B[39m      \u001B[32m103\u001B[39m: \u001B[33m\"\u001B[39m\u001B[33mKerrie\u001B[39m\u001B[33m\"\u001B[39m,\n\u001B[32m     12\u001B[39m      \u001B[32m104\u001B[39m : \u001B[33m\"\u001B[39m\u001B[33mRakesh\u001B[39m\u001B[33m\"\u001B[39m}\n",
      "\u001B[31mNameError\u001B[39m: name 'grades_set' is not defined"
     ]
    }
   ],
   "execution_count": 3
  },
  {
   "metadata": {
    "ExecuteTime": {
     "end_time": "2025-09-19T01:25:19.113216Z",
     "start_time": "2025-09-19T01:25:19.104933Z"
    }
   },
   "cell_type": "code",
   "source": [
    "grades = [35, 50, 65, 8]\n",
    "for g in grades:\n",
    "    print(g)\n",
    "\n",
    "\n"
   ],
   "id": "8a6d782fe4a21e13",
   "outputs": [
    {
     "name": "stdout",
     "output_type": "stream",
     "text": [
      "35\n",
      "50\n",
      "65\n",
      "8\n"
     ]
    }
   ],
   "execution_count": 6
  },
  {
   "metadata": {
    "ExecuteTime": {
     "end_time": "2025-09-19T01:40:25.059509Z",
     "start_time": "2025-09-19T01:40:25.047153Z"
    }
   },
   "cell_type": "code",
   "source": [
    "list = [1,2,3,4,5,6,7,8,9,10]\n",
    "\n",
    "evens = []\n",
    "odds = []\n",
    "for num in list:\n",
    "    if num % 2 == 0:\n",
    "        evens.append(num)\n",
    "    else:\n",
    "        odds.append(num)\n",
    "print(\"Even numbers:\", evens)\n",
    "print(\"Odd numbers:\", odds)\n"
   ],
   "id": "b505241972441d41",
   "outputs": [
    {
     "name": "stdout",
     "output_type": "stream",
     "text": [
      "Even numbers: [2, 4, 6, 8, 10]\n",
      "Odd numbers: [1, 3, 5, 7, 9]\n"
     ]
    }
   ],
   "execution_count": 9
  },
  {
   "metadata": {
    "ExecuteTime": {
     "end_time": "2025-09-19T01:50:12.707209Z",
     "start_time": "2025-09-19T01:50:12.696726Z"
    }
   },
   "cell_type": "code",
   "source": [
    "#loop using range\n",
    "for x in range(5):\n",
    "    print(x)\n",
    "print(\"*********************\")\n",
    "for i in range(40,5,-5):\n",
    "    print(i)\n",
    "\n",
    "print(\"*********************\")\n",
    "\n",
    "for shaneen in range(7):\n",
    "    print(\"I am Shaneen\")\n",
    "print(\"*********************\")\n",
    "\n",
    "\n"
   ],
   "id": "a82a4b80cddcf4f",
   "outputs": [
    {
     "name": "stdout",
     "output_type": "stream",
     "text": [
      "0\n",
      "1\n",
      "2\n",
      "3\n",
      "4\n",
      "*********************\n",
      "40\n",
      "35\n",
      "30\n",
      "25\n",
      "20\n",
      "15\n",
      "10\n",
      "*********************\n",
      "I am Shaneen\n",
      "I am Shaneen\n",
      "I am Shaneen\n",
      "I am Shaneen\n",
      "I am Shaneen\n",
      "I am Shaneen\n",
      "I am Shaneen\n",
      "*********************\n",
      "1\n",
      "2\n",
      "3\n",
      "4\n",
      "5\n",
      "6\n",
      "7\n",
      "8\n",
      "9\n",
      "10\n",
      "9\n",
      "8\n",
      "7\n",
      "6\n",
      "5\n",
      "4\n",
      "3\n",
      "2\n"
     ]
    }
   ],
   "execution_count": 17
  },
  {
   "metadata": {
    "ExecuteTime": {
     "end_time": "2025-09-19T01:51:34.800921Z",
     "start_time": "2025-09-19T01:51:34.791732Z"
    }
   },
   "cell_type": "code",
   "source": [
    "for a in range(1, 11, 1):\n",
    "    print(a)"
   ],
   "id": "802fc7f58f18952",
   "outputs": [
    {
     "name": "stdout",
     "output_type": "stream",
     "text": [
      "1\n",
      "2\n",
      "3\n",
      "4\n",
      "5\n",
      "6\n",
      "7\n",
      "8\n",
      "9\n",
      "10\n"
     ]
    }
   ],
   "execution_count": 23
  },
  {
   "metadata": {
    "ExecuteTime": {
     "end_time": "2025-09-19T01:57:46.750660Z",
     "start_time": "2025-09-19T01:57:46.742936Z"
    }
   },
   "cell_type": "code",
   "source": [
    "print(\"So, The descending order is from 10  to 1!!\\n\")\n",
    "for d in range(10, 0, -1):\n",
    "    print(d)"
   ],
   "id": "ceadd3e0a60f551d",
   "outputs": [
    {
     "name": "stdout",
     "output_type": "stream",
     "text": [
      "So, The descending order is from 10  to 1!!\n",
      "\n",
      "10\n",
      "9\n",
      "8\n",
      "7\n",
      "6\n",
      "5\n",
      "4\n",
      "3\n",
      "2\n",
      "1\n"
     ]
    }
   ],
   "execution_count": 28
  },
  {
   "metadata": {
    "ExecuteTime": {
     "end_time": "2025-09-19T02:01:50.250397Z",
     "start_time": "2025-09-19T02:01:50.241870Z"
    }
   },
   "cell_type": "code",
   "source": [
    "for i in range(5, 51, 5):\n",
    "    print(i)\n",
    "print(\"**********\")\n",
    "\n"
   ],
   "id": "665daf066f49b96b",
   "outputs": [
    {
     "name": "stdout",
     "output_type": "stream",
     "text": [
      "5\n",
      "10\n",
      "15\n",
      "20\n",
      "25\n",
      "30\n",
      "35\n",
      "40\n",
      "45\n",
      "50\n",
      "**********\n"
     ]
    }
   ],
   "execution_count": 41
  },
  {
   "metadata": {
    "ExecuteTime": {
     "end_time": "2025-09-19T02:01:56.496191Z",
     "start_time": "2025-09-19T02:01:56.488787Z"
    }
   },
   "cell_type": "code",
   "source": [
    "for j in range(60, 12, -6):\n",
    "    print(j)"
   ],
   "id": "4d4b08adf795899c",
   "outputs": [
    {
     "name": "stdout",
     "output_type": "stream",
     "text": [
      "60\n",
      "54\n",
      "48\n",
      "42\n",
      "36\n",
      "30\n",
      "24\n",
      "18\n"
     ]
    }
   ],
   "execution_count": 42
  },
  {
   "metadata": {
    "ExecuteTime": {
     "end_time": "2025-09-19T02:05:28.832537Z",
     "start_time": "2025-09-19T02:05:25.068668Z"
    }
   },
   "cell_type": "code",
   "source": [
    "word = str(input(\"Enter a word:\"))\n",
    "for letter in word:\n",
    "    print(letter)"
   ],
   "id": "329981519c97e7dc",
   "outputs": [
    {
     "name": "stdout",
     "output_type": "stream",
     "text": [
      "s\n",
      "h\n",
      "a\n",
      "n\n",
      "e\n",
      "e\n",
      "n\n"
     ]
    }
   ],
   "execution_count": 44
  },
  {
   "metadata": {
    "ExecuteTime": {
     "end_time": "2025-09-19T02:14:25.758688Z",
     "start_time": "2025-09-19T02:14:25.749619Z"
    }
   },
   "cell_type": "code",
   "source": [
    "list = [10, 10 ,10, 10, 10]\n",
    "sum = 0\n",
    "for l in list:\n",
    "    sum = sum + l\n",
    "print(\"The sum is:\", sum)\n"
   ],
   "id": "61d3cbba9fbe5082",
   "outputs": [
    {
     "name": "stdout",
     "output_type": "stream",
     "text": [
      "The sum is: 50\n"
     ]
    }
   ],
   "execution_count": 51
  },
  {
   "metadata": {
    "ExecuteTime": {
     "end_time": "2025-09-19T02:14:03.410630Z",
     "start_time": "2025-09-19T02:14:03.399869Z"
    }
   },
   "cell_type": "code",
   "source": [
    "list = [10, 10 ,10, 10, 10]\n",
    "list1 = []\n",
    "for item in list:\n",
    "    list1.append(list)\n",
    "    print(list1)\n",
    "\n"
   ],
   "id": "a4d710156a4747a0",
   "outputs": [
    {
     "name": "stdout",
     "output_type": "stream",
     "text": [
      "[[10, 10, 10, 10, 10]]\n",
      "[[10, 10, 10, 10, 10], [10, 10, 10, 10, 10]]\n",
      "[[10, 10, 10, 10, 10], [10, 10, 10, 10, 10], [10, 10, 10, 10, 10]]\n",
      "[[10, 10, 10, 10, 10], [10, 10, 10, 10, 10], [10, 10, 10, 10, 10], [10, 10, 10, 10, 10]]\n",
      "[[10, 10, 10, 10, 10], [10, 10, 10, 10, 10], [10, 10, 10, 10, 10], [10, 10, 10, 10, 10], [10, 10, 10, 10, 10]]\n"
     ]
    }
   ],
   "execution_count": 50
  },
  {
   "metadata": {
    "ExecuteTime": {
     "end_time": "2025-09-19T02:39:49.284384Z",
     "start_time": "2025-09-19T02:39:49.275980Z"
    }
   },
   "cell_type": "code",
   "source": [
    "\n",
    "print(\"Display numbers from 1 to 20 in ascending order\")\n",
    "\n",
    "num=1\n",
    "while num<= 20:\n",
    "    print(num)\n",
    "    num = num + 1\n",
    "\n"
   ],
   "id": "2b62d8ef3fcaa64a",
   "outputs": [
    {
     "name": "stdout",
     "output_type": "stream",
     "text": [
      "Display numbers from 1 to 20 in ascending order\n",
      "1\n",
      "2\n",
      "3\n",
      "4\n",
      "5\n",
      "6\n",
      "7\n",
      "8\n",
      "9\n",
      "10\n",
      "11\n",
      "12\n",
      "13\n",
      "14\n",
      "15\n",
      "16\n",
      "17\n",
      "18\n",
      "19\n",
      "20\n"
     ]
    }
   ],
   "execution_count": 4
  },
  {
   "metadata": {
    "ExecuteTime": {
     "end_time": "2025-09-19T02:36:55.249425Z",
     "start_time": "2025-09-19T02:36:55.238396Z"
    }
   },
   "cell_type": "code",
   "source": [
    "num = 20\n",
    "while num >= 1:\n",
    "    print(num)\n",
    "    num = num - 1\n"
   ],
   "id": "4d91df2fd3884e79",
   "outputs": [
    {
     "name": "stdout",
     "output_type": "stream",
     "text": [
      "20\n",
      "19\n",
      "18\n",
      "17\n",
      "16\n",
      "15\n",
      "14\n",
      "13\n",
      "12\n",
      "11\n",
      "10\n",
      "9\n",
      "8\n",
      "7\n",
      "6\n",
      "5\n",
      "4\n",
      "3\n",
      "2\n",
      "1\n"
     ]
    }
   ],
   "execution_count": 3
  },
  {
   "metadata": {
    "ExecuteTime": {
     "end_time": "2025-09-19T02:45:13.741469Z",
     "start_time": "2025-09-19T02:45:13.728072Z"
    }
   },
   "cell_type": "code",
   "source": [
    "#Display numbers from 3 to 30 in increments of 3\n",
    "num1 = 3\n",
    "while num <=30:\n",
    "    print(num)\n",
    "    num = num + 3\n"
   ],
   "id": "e06d463eae09306c",
   "outputs": [
    {
     "name": "stdout",
     "output_type": "stream",
     "text": [
      "21\n",
      "24\n",
      "27\n",
      "30\n"
     ]
    }
   ],
   "execution_count": 5
  },
  {
   "metadata": {
    "ExecuteTime": {
     "end_time": "2025-09-19T02:45:57.885010Z",
     "start_time": "2025-09-19T02:45:57.877006Z"
    }
   },
   "cell_type": "code",
   "source": [
    "num1 = 40\n",
    "while num >= 4:\n",
    "    print(num)\n",
    "    num = num - 4"
   ],
   "id": "f1ed1c20ee98c742",
   "outputs": [
    {
     "name": "stdout",
     "output_type": "stream",
     "text": [
      "33\n",
      "29\n",
      "25\n",
      "21\n",
      "17\n",
      "13\n",
      "9\n",
      "5\n"
     ]
    }
   ],
   "execution_count": 6
  },
  {
   "metadata": {
    "ExecuteTime": {
     "end_time": "2025-09-19T03:01:39.366068Z",
     "start_time": "2025-09-19T03:01:28.167029Z"
    }
   },
   "cell_type": "code",
   "source": [
    "sum = 0\n",
    "num = int(input(\"Enter a number:\"))\n",
    "\n",
    "while num != 0:\n",
    "    sum = sum + num\n",
    "    num = int(input(\"Enter a number(0 to stop):\"))\n",
    "\n",
    "print(\"The total sum is:\",  sum)\n",
    "\n"
   ],
   "id": "53034b0c51fbd8a9",
   "outputs": [
    {
     "name": "stdout",
     "output_type": "stream",
     "text": [
      "The total sum is: 20\n"
     ]
    }
   ],
   "execution_count": 12
  },
  {
   "metadata": {
    "ExecuteTime": {
     "end_time": "2025-09-19T03:10:13.977609Z",
     "start_time": "2025-09-19T03:10:13.969622Z"
    }
   },
   "cell_type": "code",
   "source": [
    "num = [10, 20, 30]\n",
    "for n in num:\n",
    "    if n < 20:\n",
    "        continue\n",
    "    print(num)"
   ],
   "id": "cb6e19b5fcf2d659",
   "outputs": [
    {
     "name": "stdout",
     "output_type": "stream",
     "text": [
      "[10, 20, 30]\n",
      "[10, 20, 30]\n"
     ]
    }
   ],
   "execution_count": 18
  },
  {
   "metadata": {
    "ExecuteTime": {
     "end_time": "2025-09-19T03:23:00.478259Z",
     "start_time": "2025-09-19T03:23:00.468452Z"
    }
   },
   "cell_type": "code",
   "source": [
    "gradebook = [ ['Jing', 35], ['Jim', 50], ['Kerrie', 65], ['Rakesh', 85] ]\n",
    "for student in gradebook:\n",
    "    print(student)\n",
    "    for detail in student:\n",
    "        print(detail)"
   ],
   "id": "b77d93e84eb99bca",
   "outputs": [
    {
     "name": "stdout",
     "output_type": "stream",
     "text": [
      "['Jing', 35]\n",
      "Jing\n",
      "35\n",
      "['Jim', 50]\n",
      "Jim\n",
      "50\n",
      "['Kerrie', 65]\n",
      "Kerrie\n",
      "65\n",
      "['Rakesh', 85]\n",
      "Rakesh\n",
      "85\n"
     ]
    }
   ],
   "execution_count": 27
  },
  {
   "metadata": {
    "ExecuteTime": {
     "end_time": "2025-09-19T03:27:41.947261Z",
     "start_time": "2025-09-19T03:27:41.938290Z"
    }
   },
   "cell_type": "code",
   "source": [
    "gradebook = [ ['Jing', 35], ['Jim', 50], ['Kerrie', 65], ['Rakesh', 85] ]\n",
    "\n",
    "for student in gradebook:\n",
    "    if student == ['Rakesh', 85]:\n",
    "        print(student)"
   ],
   "id": "6a37438f4086dc20",
   "outputs": [
    {
     "name": "stdout",
     "output_type": "stream",
     "text": [
      "['Rakesh', 85]\n"
     ]
    }
   ],
   "execution_count": 37
  },
  {
   "metadata": {
    "ExecuteTime": {
     "end_time": "2025-09-19T03:32:58.231974Z",
     "start_time": "2025-09-19T03:32:58.223771Z"
    }
   },
   "cell_type": "code",
   "source": [
    "new_list = [i for i in range(1, 10, 1)]\n",
    "#so this one works for the range() with or without the start, end and incre or decre\n",
    "print(new_list)"
   ],
   "id": "b7df3f9681a670be",
   "outputs": [
    {
     "name": "stdout",
     "output_type": "stream",
     "text": [
      "[1, 2, 3, 4, 5, 6, 7, 8, 9]\n"
     ]
    }
   ],
   "execution_count": 40
  },
  {
   "metadata": {
    "ExecuteTime": {
     "end_time": "2025-09-19T03:46:41.248638Z",
     "start_time": "2025-09-19T03:46:41.239097Z"
    }
   },
   "cell_type": "code",
   "source": [
    "student_names = [\"Shaneen\", \"Meem\", \"Alice\"]\n",
    "student_grades = [90, 49, 80]\n",
    "\n",
    "pass_list = []\n",
    "fail_list = []\n",
    "\n",
    "for i in range(len(student_names)):\n",
    "    if student_grades[i] < 50:\n",
    "        fail_list.append(student_names[i])\n",
    "    else:\n",
    "        pass_list.append(student_names[i])\n",
    "\n",
    "print(\"Students who passed:\", pass_list)\n",
    "print(\"Students who failed:\", fail_list)\n"
   ],
   "id": "196a2baae14bd27e",
   "outputs": [
    {
     "name": "stdout",
     "output_type": "stream",
     "text": [
      "Students who passed: ['Shaneen', 'Alice']\n",
      "Students who failed: ['Meem']\n"
     ]
    }
   ],
   "execution_count": 47
  },
  {
   "metadata": {
    "ExecuteTime": {
     "end_time": "2025-09-23T05:43:33.509613Z",
     "start_time": "2025-09-23T05:43:33.500172Z"
    }
   },
   "cell_type": "code",
   "source": [
    "def print_hello():#user defined function\n",
    "    print(\"Hiiiiii, Khadezaa\")\n",
    "print(\"How are you?\")\n",
    "\n",
    "print_hello()\n",
    "\n"
   ],
   "id": "e8a56aa050b04b99",
   "outputs": [
    {
     "name": "stdout",
     "output_type": "stream",
     "text": [
      "How are you?\n",
      "Hiiiiii, Khadezaa\n"
     ]
    }
   ],
   "execution_count": 5
  },
  {
   "metadata": {
    "ExecuteTime": {
     "end_time": "2025-09-23T05:52:58.150170Z",
     "start_time": "2025-09-23T05:52:58.139709Z"
    }
   },
   "cell_type": "code",
   "source": [
    "\n",
    "def display_grading_system():\n",
    "    print(\"▪ HD: 85 - 100\")\n",
    "    print(\"▪ D: 70 - 84\")\n",
    "    print(\"▪ C: 50 - 69\")\n",
    "    print(\"▪ P: 35 - 49\")\n",
    "    print(\"▪ F: Below 35\")\n",
    "\n",
    "display_grading_system()\n"
   ],
   "id": "540bcc11201ec21d",
   "outputs": [
    {
     "name": "stdout",
     "output_type": "stream",
     "text": [
      "▪ HD: 85 - 100\n",
      "▪ D: 70 - 84\n",
      "▪ C: 50 - 69\n",
      "▪ P: 35 - 49\n",
      "▪ F: Below 35\n"
     ]
    }
   ],
   "execution_count": 8
  },
  {
   "metadata": {
    "ExecuteTime": {
     "end_time": "2025-09-23T06:04:55.125646Z",
     "start_time": "2025-09-23T06:04:55.115431Z"
    }
   },
   "cell_type": "code",
   "source": [
    "def print_hello(name, surname):\n",
    "    print(\"Welcome\" + \" \" + name + \" \" + surname +  \" \" + \"to print_hello function\")\n",
    "\n",
    "print_hello(\"Shaneen\", \"Ara\")"
   ],
   "id": "7eb056336cb9fe06",
   "outputs": [
    {
     "name": "stdout",
     "output_type": "stream",
     "text": [
      "Welcome Shaneen Ara to print_hello function\n"
     ]
    }
   ],
   "execution_count": 12
  },
  {
   "metadata": {
    "ExecuteTime": {
     "end_time": "2025-09-23T06:54:46.588873Z",
     "start_time": "2025-09-23T06:54:46.578840Z"
    }
   },
   "cell_type": "code",
   "source": [
    "def assign_grade(score, extra_credit=0):\n",
    "    total_credit = score + extra_credit\n",
    "    if total_credit  >= 85:\n",
    "        print(\"The Student Scored\" + str(score) + \"+ extra_credit, \" +  \" =\" + str(total_credit)+ \" \" + \"which is a Grade HD\")\n",
    "    elif total_credit >= 75:\n",
    "        print(\"The Student Scored,\" + str(score) + \"+ extra_credit, \" + str(extra_credit) + \" =\" + str(total_credit) + \" \" + \"which is a Grade D\")\n",
    "    elif total_credit >= 65:\n",
    "        print(\"The Student Scored,\" + str(score) + \"+ extra_credit,\" + str(extra_credit) + \" =\" + str(total_credit) + \" \" + \"which is a Grade C\")\n",
    "    elif total_credit >= 50:\n",
    "        print(\"The Student Scored,\" + str(score) + \"+ extra_credit,\" + str(extra_credit) + \" =\" + str(total_credit) + \" \" + \"which is a Grade P\")\n",
    "    else:\n",
    "        print(\"The Student Scored,\" + str(score) + \"+ extra_credit,\" + str(extra_credit) + \" =\" + str(total_credit) + \" \" + \"which is a Grade F\")\n",
    "\n",
    "assign_grade(90,5)\n",
    "assign_grade(10,10)\n"
   ],
   "id": "f75f4e4e09e46ada",
   "outputs": [
    {
     "name": "stdout",
     "output_type": "stream",
     "text": [
      "The Student Scored90+ extra_credit,  =95 which is a Grade HD\n",
      "The Student Scored,10+ extra_credit,10 =20 which is a Grade F\n"
     ]
    }
   ],
   "execution_count": 36
  },
  {
   "metadata": {},
   "cell_type": "markdown",
   "source": "",
   "id": "44a72d19056e748d"
  },
  {
   "metadata": {
    "ExecuteTime": {
     "end_time": "2025-09-23T07:08:51.055814Z",
     "start_time": "2025-09-23T07:08:51.045510Z"
    }
   },
   "cell_type": "code",
   "source": [
    "def exchange_usd_to_aud(usd_amount, exchange_rate):\n",
    "    return usd_amount + exchange_rate\n",
    "#here\n",
    "aud_amount = exchange_usd_to_aud(100, 1.433)\n",
    "print(aud_amount)\n"
   ],
   "id": "e5b0c8a057009b39",
   "outputs": [
    {
     "name": "stdout",
     "output_type": "stream",
     "text": [
      "101.433\n"
     ]
    }
   ],
   "execution_count": 43
  },
  {
   "metadata": {
    "ExecuteTime": {
     "end_time": "2025-09-23T07:14:12.092915Z",
     "start_time": "2025-09-23T07:14:12.082780Z"
    }
   },
   "cell_type": "code",
   "source": [
    "weather_data = [37,23,30]\n",
    "\n",
    "def weather_report(weather):\n",
    "    first = \"Today: \" + str(weather[0])\n",
    "    second = \"Tomorrow: \" + str(weather[1])\n",
    "    third = \"Two days after: \" + str(weather[2])\n",
    "\n",
    "    return first, second, third\n",
    "\n",
    "monday, tuesday, wednesday = weather_report(weather_data)\n",
    "\n",
    "print(monday)\n",
    "print(tuesday)\n",
    "print(wednesday)"
   ],
   "id": "56f37764ac9ed686",
   "outputs": [
    {
     "name": "stdout",
     "output_type": "stream",
     "text": [
      "Today: 37\n",
      "Tomorrow: 23\n",
      "Two days after: 30\n"
     ]
    }
   ],
   "execution_count": 47
  },
  {
   "metadata": {
    "ExecuteTime": {
     "end_time": "2025-09-23T07:26:44.753375Z",
     "start_time": "2025-09-23T07:26:44.741583Z"
    }
   },
   "cell_type": "code",
   "source": [
    "def assign_grade(score, extra_credit=0):\n",
    "    total_credit = score + extra_credit\n",
    "\n",
    "    if total_credit >= 85:\n",
    "        grade = \"HD\"\n",
    "    elif total_credit >= 70:\n",
    "        grade = \"D\"\n",
    "    elif total_credit >= 50:\n",
    "        grade = \"C\"\n",
    "    elif total_credit >= 35:\n",
    "        grade = \"P\"\n",
    "    else:\n",
    "        grade = \"F\"\n",
    "\n",
    "\n",
    "    if extra_credit > 0:\n",
    "        print(f\"The Student Scored {score} + {extra_credit} extra credit = {total_credit}, which is a Grade {grade}\")\n",
    "    else:\n",
    "        print(f\"The Student Scored {score}, which is a Grade {grade}\")\n",
    "\n",
    "\n",
    "assign_grade(90, 5)\n",
    "assign_grade(10, 10)\n",
    "assign_grade(72)\n",
    "assign_grade(48, 5)\n"
   ],
   "id": "876cbffdfe4d6bd7",
   "outputs": [
    {
     "name": "stdout",
     "output_type": "stream",
     "text": [
      "The Student Scored 90 + 5 extra credit = 95, which is a Grade HD\n",
      "The Student Scored 10 + 10 extra credit = 20, which is a Grade F\n",
      "The Student Scored 72, which is a Grade D\n",
      "The Student Scored 48 + 5 extra credit = 53, which is a Grade C\n"
     ]
    }
   ],
   "execution_count": 50
  },
  {
   "metadata": {
    "ExecuteTime": {
     "end_time": "2025-09-23T07:33:12.729102Z",
     "start_time": "2025-09-23T07:33:12.721725Z"
    }
   },
   "cell_type": "code",
   "source": [
    "s = 1000\n",
    "def travel_cost(destination_km, price_per_km=5):\n",
    "    print(\"Savings: \", s)\n",
    "    print(\"Destination\")\n"
   ],
   "id": "a66dbfe2d0e7ee59",
   "outputs": [],
   "execution_count": 51
  },
  {
   "metadata": {
    "ExecuteTime": {
     "end_time": "2025-09-26T01:20:28.997408Z",
     "start_time": "2025-09-26T01:20:28.985947Z"
    }
   },
   "cell_type": "code",
   "source": [
    "s = [10, 20, 30]\n",
    "\n",
    "def my_sum(numbers):\n",
    "    total = 0\n",
    "    for num in numbers:\n",
    "        total = total + num\n",
    "    return total\n",
    "\n",
    "def my_max(numbers):\n",
    "    maximum = numbers[0]\n",
    "    for num in numbers:\n",
    "        if num > maximum:\n",
    "            maximum = num\n",
    "    return maximum\n",
    "\n",
    "print(\"Sum:\", my_sum(s))\n",
    "print(\"Max:\", my_max(s))\n"
   ],
   "id": "754ce60c464bb1d9",
   "outputs": [
    {
     "name": "stdout",
     "output_type": "stream",
     "text": [
      "Sum: 60\n",
      "Max: 30\n"
     ]
    }
   ],
   "execution_count": 2
  },
  {
   "metadata": {
    "ExecuteTime": {
     "end_time": "2025-09-26T01:28:21.216750Z",
     "start_time": "2025-09-26T01:28:21.207482Z"
    }
   },
   "cell_type": "code",
   "source": [
    "\n",
    "for i in range(1, 11):\n",
    "    print(\"5 *\", i, \"=\", 5*i)\n",
    "\n",
    "\n"
   ],
   "id": "c825b1caeffebc52",
   "outputs": [
    {
     "name": "stdout",
     "output_type": "stream",
     "text": [
      "5 * 1 = 5\n",
      "5 * 2 = 10\n",
      "5 * 3 = 15\n",
      "5 * 4 = 20\n",
      "5 * 5 = 25\n",
      "5 * 6 = 30\n",
      "5 * 7 = 35\n",
      "5 * 8 = 40\n",
      "5 * 9 = 45\n",
      "5 * 10 = 50\n"
     ]
    }
   ],
   "execution_count": 9
  },
  {
   "metadata": {
    "ExecuteTime": {
     "end_time": "2025-09-26T01:32:33.856463Z",
     "start_time": "2025-09-26T01:32:33.847372Z"
    }
   },
   "cell_type": "code",
   "source": [
    "number = 6\n",
    "factorial = 1\n",
    "for i in range(1, number):\n",
    "    factorial = factorial * i\n",
    "\n",
    "print(\"Factorial of 6 is\", factorial)"
   ],
   "id": "864a620b14ce6ed2",
   "outputs": [
    {
     "name": "stdout",
     "output_type": "stream",
     "text": [
      "Factorial of 6 is 120\n"
     ]
    }
   ],
   "execution_count": 11
  },
  {
   "metadata": {
    "ExecuteTime": {
     "end_time": "2025-09-26T01:39:25.836035Z",
     "start_time": "2025-09-26T01:39:22.405281Z"
    }
   },
   "cell_type": "code",
   "source": [
    "cel = float(input(\"Enter temperature in Celsisus in float: \"))\n",
    "fahrenheit  = ((9/5) * cel) + 32\n",
    "print(\"Temperature in Farenheit is\", fahrenheit)"
   ],
   "id": "d0983e5e259b2fe",
   "outputs": [
    {
     "name": "stdout",
     "output_type": "stream",
     "text": [
      "Temperature in Farenheit is 32.0\n"
     ]
    }
   ],
   "execution_count": 17
  },
  {
   "metadata": {
    "ExecuteTime": {
     "end_time": "2025-09-26T01:39:04.898964Z",
     "start_time": "2025-09-26T01:39:00.276260Z"
    }
   },
   "cell_type": "code",
   "source": [
    "far = float(input(\"Enter temperature in Farenheit in float: \"))\n",
    "\n",
    "cel = ( far - 32) * 5/9\n",
    "print(\"Temperature in celsius is\", cel)"
   ],
   "id": "f5d96932c2f76046",
   "outputs": [
    {
     "name": "stdout",
     "output_type": "stream",
     "text": [
      "Temperature in celsius is 100.0\n"
     ]
    }
   ],
   "execution_count": 16
  },
  {
   "metadata": {
    "ExecuteTime": {
     "end_time": "2025-09-26T01:51:52.413965Z",
     "start_time": "2025-09-26T01:51:52.404234Z"
    }
   },
   "cell_type": "code",
   "source": [
    "A = [1, 2, 3, 4, 6]\n",
    "B = [6, 7, 8, 9, 10]\n",
    "\n",
    "sum = []\n",
    "mul = []\n",
    "for i in range ( 0, len(A)):\n",
    "    sum.append(A[i]+B[i])\n",
    "    mul.append(A[i]*B[i])\n",
    "\n",
    "\n",
    "print(\"Sum list:\", sum)\n",
    "print(\"Multiplication list:\", mul)\n",
    "\n"
   ],
   "id": "50e9aa4b8119f347",
   "outputs": [
    {
     "name": "stdout",
     "output_type": "stream",
     "text": [
      "Sum list: [7, 9, 11, 13, 16]\n",
      "Multiplication list: [6, 14, 24, 36, 60]\n"
     ]
    }
   ],
   "execution_count": 22
  },
  {
   "metadata": {
    "ExecuteTime": {
     "end_time": "2025-09-26T02:31:44.629615Z",
     "start_time": "2025-09-26T02:30:28.569087Z"
    }
   },
   "cell_type": "code",
   "source": [
    "list_of_numbers = []\n",
    "\n",
    "num = int(input(\"Enter numbers for creating a list(type OK to stop):\"))\n",
    "\n",
    "while True:\n",
    "    user_input = int(input(\" Insert a number \"))\n",
    "\n",
    "    if user_input== 0:\n",
    "        break\n",
    "\n",
    "    num = int(user_input)\n",
    "    list_of_numbers.append(num)\n",
    "\n",
    "result = []\n",
    "for num in list_of_numbers:\n",
    "    if num % 2!=0:\n",
    "        result.append(num)\n",
    "\n",
    "print(\"The final list:\", result)\n",
    "\n",
    "\n",
    "\n"
   ],
   "id": "e1fb87bed680ba6b",
   "outputs": [
    {
     "name": "stdout",
     "output_type": "stream",
     "text": [
      "The final list: [3]\n"
     ]
    }
   ],
   "execution_count": 35
  },
  {
   "metadata": {
    "ExecuteTime": {
     "end_time": "2025-09-26T02:55:23.769437Z",
     "start_time": "2025-09-26T02:55:07.296646Z"
    }
   },
   "cell_type": "code",
   "source": [
    "number = []\n",
    "\n",
    "\n",
    "while True:\n",
    "    num = int(input(\"Enter numbers to add to the list (type 0 to stop):\"))\n",
    "    if num == 0:\n",
    "        break\n",
    "    number.append(num)\n",
    "\n",
    "print(\"Original list:\", number)\n",
    "\n",
    "seen = []\n",
    "\n",
    "for i in range(len(number)):\n",
    "    if number[i] in seen:\n",
    "        number[i] = 0\n",
    "    else:\n",
    "        seen.append(number[i])\n",
    "\n",
    "print(\"List after replacing duplicates with 0:\", number)\n"
   ],
   "id": "3539fe0791d58d9a",
   "outputs": [
    {
     "name": "stdout",
     "output_type": "stream",
     "text": [
      "Enter numbers to add to the list (type 0 to stop):\n",
      "List after replacing duplicates with 0: [10, 20, 30, 40]\n"
     ]
    }
   ],
   "execution_count": 40
  },
  {
   "metadata": {
    "ExecuteTime": {
     "end_time": "2025-09-26T03:26:57.337800Z",
     "start_time": "2025-09-26T03:26:40.977606Z"
    }
   },
   "cell_type": "code",
   "source": [
    "number = []\n",
    "\n",
    "\n",
    "while True:\n",
    "    num = int(input(\"Enter numbers to add to the list (type 0 to stop):\"))\n",
    "    if num == 0:\n",
    "        break\n",
    "    number.append(num)\n",
    "\n",
    "\n",
    "print(\"Original list:\", number)\n",
    "\n",
    "# using range with -1\n",
    "reversed_list = []\n",
    "for i in range(len(number) - 1, -1, -1):   # step = -1\n",
    "    reversed_list.append(number[i])\n",
    "\n",
    "\n",
    "print(\"Reversed list:\", reversed_list)\n"
   ],
   "id": "fff33ef4165de4ca",
   "outputs": [
    {
     "name": "stdout",
     "output_type": "stream",
     "text": [
      "Sum of the even numbers: 30\n",
      "Sum of the odd numbers: 20\n"
     ]
    }
   ],
   "execution_count": 50
  },
  {
   "metadata": {
    "ExecuteTime": {
     "end_time": "2025-09-26T03:28:25.198392Z",
     "start_time": "2025-09-26T03:28:10.156911Z"
    }
   },
   "cell_type": "code",
   "source": [
    "def separate_even_odd(numbers):\n",
    "    even = 0\n",
    "    odd = 0\n",
    "    for num in numbers:\n",
    "        if num % 2 == 0:\n",
    "            even += num\n",
    "        else:\n",
    "            odd += num\n",
    "\n",
    "    # Print inside the function\n",
    "    print(\"Sum of the even numbers:\", even)\n",
    "    print(\"Sum of the odd numbers:\", odd)\n",
    "\n",
    "\n",
    "# Take user input to create the list\n",
    "numbers = []\n",
    "while True:\n",
    "    num = int(input(\"Enter numbers to add to the list (type 0 to stop): \"))\n",
    "    if num == 0:\n",
    "        break\n",
    "    numbers.append(num)\n",
    "\n",
    "# Call the function\n",
    "separate_even_odd(numbers)\n"
   ],
   "id": "54d0c8c11702223f",
   "outputs": [
    {
     "name": "stdout",
     "output_type": "stream",
     "text": [
      "Sum of the even numbers: 30\n",
      "Sum of the odd numbers: 20\n"
     ]
    }
   ],
   "execution_count": 53
  },
  {
   "metadata": {
    "ExecuteTime": {
     "end_time": "2025-09-26T03:45:02.450038Z",
     "start_time": "2025-09-26T03:45:02.442179Z"
    }
   },
   "cell_type": "code",
   "source": [
    "def get_avg_temp(list_temp):\n",
    "    city_name = list_temp[0]\n",
    "    temperature = list_temp[1]\n",
    "\n",
    "    sum = 0\n",
    "    for temp in temperature[2:]:\n",
    "        sum =sum+temp\n",
    "\n",
    "    avg = sum/len(temperature)\n",
    "    if avg > 25 and avg !=30:\n",
    "        print(city_name, \"cold\")\n",
    "    elif avg == 30:\n",
    "        print(city_name, \"moderate\")\n",
    "    else:\n",
    "        print(city_name, \"Humid\")\n",
    "\n",
    "    cities = [\n",
    "    [\"City A\", [23, 24, 27, 30]],\n",
    "    [\"City B\", [30, 35, 20, 27]]\n",
    "]\n",
    "    for city in cities:\n",
    "        get_avg_temp(city)\n",
    "\n",
    "\n"
   ],
   "id": "e25409c0502f7742",
   "outputs": [],
   "execution_count": 57
  },
  {
   "metadata": {
    "ExecuteTime": {
     "end_time": "2025-09-28T11:06:42.941997Z",
     "start_time": "2025-09-28T11:06:42.935576Z"
    }
   },
   "cell_type": "code",
   "source": [
    "fruits = [\"apple\", \"banana\", \"cherry\"]\n",
    "\n",
    "for i in range(len(fruits)):\n",
    "    if \"apple\" == fruits[i]:\n",
    "        print(\"Yes, apple is in the list\")\n",
    "        break\n",
    "    else:\n",
    "        print(\"No, apple is not in the list\")\n"
   ],
   "id": "aa5440872bdeb01d",
   "outputs": [
    {
     "name": "stdout",
     "output_type": "stream",
     "text": [
      "Yes, apple is in the list\n"
     ]
    }
   ],
   "execution_count": 2
  },
  {
   "metadata": {
    "ExecuteTime": {
     "end_time": "2025-09-30T05:15:59.508146Z",
     "start_time": "2025-09-30T05:15:59.470479Z"
    }
   },
   "cell_type": "code",
   "source": [
    "single = 'String with Single quotation marks'\n",
    "print(single[10:15])"
   ],
   "id": "143564b23bbde34a",
   "outputs": [
    {
     "name": "stdout",
     "output_type": "stream",
     "text": [
      "h Sin\n"
     ]
    }
   ],
   "execution_count": 1
  },
  {
   "metadata": {
    "ExecuteTime": {
     "end_time": "2025-09-30T05:21:48.403571Z",
     "start_time": "2025-09-30T05:21:48.393826Z"
    }
   },
   "cell_type": "code",
   "source": [
    "a = \"35\"\n",
    "b = \"35\"\n",
    "c = float(a) + int(b)\n",
    "print(c)"
   ],
   "id": "67ec41ea7bb7063f",
   "outputs": [
    {
     "name": "stdout",
     "output_type": "stream",
     "text": [
      "70.0\n"
     ]
    }
   ],
   "execution_count": 5
  },
  {
   "metadata": {
    "ExecuteTime": {
     "end_time": "2025-09-30T05:23:22.704765Z",
     "start_time": "2025-09-30T05:23:22.697059Z"
    }
   },
   "cell_type": "code",
   "source": [
    "comb = 'String with Single quotation marksString with Double quotation marksextraString'\n",
    "print(len(comb))"
   ],
   "id": "c62fbb09881e2b91",
   "outputs": [
    {
     "name": "stdout",
     "output_type": "stream",
     "text": [
      "79\n"
     ]
    }
   ],
   "execution_count": 6
  },
  {
   "metadata": {
    "ExecuteTime": {
     "end_time": "2025-09-30T05:25:38.040076Z",
     "start_time": "2025-09-30T05:25:38.018533Z"
    }
   },
   "cell_type": "code",
   "source": [
    "language1 = \"Python is excellent programming language\"\n",
    "language2 = \"Java is a great programming language\"\n",
    "c = language1 + language2\n",
    "print(len(c))"
   ],
   "id": "300760cdb10a2d38",
   "outputs": [
    {
     "name": "stdout",
     "output_type": "stream",
     "text": [
      "76\n"
     ]
    }
   ],
   "execution_count": 7
  },
  {
   "metadata": {
    "ExecuteTime": {
     "end_time": "2025-09-30T05:32:26.813532Z",
     "start_time": "2025-09-30T05:32:26.806330Z"
    }
   },
   "cell_type": "code",
   "source": [
    "l1 = \"shaneen\"\n",
    "l1 = \"ara\" # this will be printed as it is updated in tthe memo\n",
    "print(l1)"
   ],
   "id": "4487855edb4115d2",
   "outputs": [
    {
     "name": "stdout",
     "output_type": "stream",
     "text": [
      "ara\n"
     ]
    }
   ],
   "execution_count": 11
  },
  {
   "metadata": {
    "ExecuteTime": {
     "end_time": "2025-09-30T05:37:01.914583Z",
     "start_time": "2025-09-30T05:37:01.905140Z"
    }
   },
   "cell_type": "code",
   "source": [
    "list1 = [1,2,3]\n",
    "print(id(list1))\n",
    "list1.append(6)\n",
    "print(id(list1))\n",
    "#the output give the same memory location for list"
   ],
   "id": "620426e9d1997f97",
   "outputs": [
    {
     "name": "stdout",
     "output_type": "stream",
     "text": [
      "1716530567040\n",
      "1716530567040\n"
     ]
    }
   ],
   "execution_count": 13
  },
  {
   "metadata": {
    "ExecuteTime": {
     "end_time": "2025-09-30T05:38:01.769113Z",
     "start_time": "2025-09-30T05:38:01.759139Z"
    }
   },
   "cell_type": "code",
   "source": [
    "list1 = \"shaneen\"\n",
    "print(id(list1))\n",
    "list1 = \"ara\"\n",
    "print(id(list1))\n",
    "\n",
    "#here, the given output is memory loc which is different as they are string"
   ],
   "id": "c443369c40e7c9be",
   "outputs": [
    {
     "name": "stdout",
     "output_type": "stream",
     "text": [
      "1716524286048\n",
      "1716524286240\n"
     ]
    }
   ],
   "execution_count": 14
  },
  {
   "metadata": {
    "ExecuteTime": {
     "end_time": "2025-09-30T05:47:45.935318Z",
     "start_time": "2025-09-30T05:47:45.924778Z"
    }
   },
   "cell_type": "code",
   "source": [
    "tesla = \"\\\"I dont care that they stole my idea...\"\\\n",
    "    \"I care that they do not have any of theur own.\\\"\"\n",
    "print(tesla)\n",
    "\n",
    "print(\"Hello\\nWorld\")\n",
    "print(\"it\\'s a sunny day\")"
   ],
   "id": "ba2778a63e3f3bff",
   "outputs": [
    {
     "name": "stdout",
     "output_type": "stream",
     "text": [
      "\"I dont care that they stole my idea...I care that they do not have any of theur own.\"\n",
      "Hello\n",
      "World\n",
      "it's a sunny day\n"
     ]
    }
   ],
   "execution_count": 17
  },
  {
   "metadata": {
    "ExecuteTime": {
     "end_time": "2025-09-30T05:53:25.038573Z",
     "start_time": "2025-09-30T05:53:25.027035Z"
    }
   },
   "cell_type": "code",
   "source": [
    "def print_letter(word):\n",
    "    for letter in word:\n",
    "        print(letter)\n",
    "\n",
    "name =\"Tesla Toyota\"\n",
    "print_letter(name)"
   ],
   "id": "d10743ae03c857e1",
   "outputs": [
    {
     "name": "stdout",
     "output_type": "stream",
     "text": [
      "T\n",
      "e\n",
      "s\n",
      "l\n",
      "a\n",
      " \n",
      "T\n",
      "o\n",
      "y\n",
      "o\n",
      "t\n",
      "a\n"
     ]
    }
   ],
   "execution_count": 20
  },
  {
   "metadata": {
    "ExecuteTime": {
     "end_time": "2025-09-30T06:08:31.513456Z",
     "start_time": "2025-09-30T06:08:31.501929Z"
    }
   },
   "cell_type": "code",
   "source": [
    "def check_email(email):\n",
    "    for i in range(len(email)):#for checking the first index\n",
    "        if i == 0 and email[i] == \"@\":\n",
    "            print(\"Invalid email (cannot start with @)\")\n",
    "            return\n",
    "        if i == len(email) - 1 and email[i] == \"@\":# for checking  last elemnt\n",
    "            print(\"Invalid email (cannot end with @)\")\n",
    "            return\n",
    "\n",
    "    print(\"Valid email\")\n",
    "\n",
    "check_email(\"@gmail.com\")\n",
    "check_email(\"test@\")\n",
    "check_email(\"test@gmail.com\")\n"
   ],
   "id": "480aa42117d7f01c",
   "outputs": [
    {
     "name": "stdout",
     "output_type": "stream",
     "text": [
      "Invalid email (cannot start with @)\n",
      "Invalid email (cannot end with @)\n",
      "Valid email\n"
     ]
    }
   ],
   "execution_count": 22
  },
  {
   "metadata": {
    "ExecuteTime": {
     "end_time": "2025-09-30T06:39:27.088307Z",
     "start_time": "2025-09-30T06:39:27.077905Z"
    }
   },
   "cell_type": "code",
   "source": [
    "name1 = \"HELLO I am SHaneen\"\n",
    "print(name1.lower())\n",
    "name2 = \"shaneen ara  IS  A GOOD Girl\"\n",
    "print(name2.upper())\n",
    "name3 = \"Harry potter IS written BY R. K. Rawling\"\n",
    "print(name3.title())"
   ],
   "id": "f6803d34144e22f0",
   "outputs": [
    {
     "name": "stdout",
     "output_type": "stream",
     "text": [
      "hello i am shaneen\n",
      "SHANEEN ARA  IS  A GOOD GIRL\n",
      "Harry Potter Is Written By R. K. Rawling\n"
     ]
    }
   ],
   "execution_count": 24
  },
  {
   "metadata": {
    "ExecuteTime": {
     "end_time": "2025-09-30T06:55:08.117186Z",
     "start_time": "2025-09-30T06:55:08.106393Z"
    }
   },
   "cell_type": "code",
   "source": [
    "string = \"see,what,happens,when,split,is,used\"\n",
    "print(string.split())\n",
    "print(string.split(\" \"))\n",
    "print(string.split(\"is\"))\n",
    "#split will return one string\n"
   ],
   "id": "f42d833be6f2de30",
   "outputs": [
    {
     "name": "stdout",
     "output_type": "stream",
     "text": [
      "['see,what,happens,when,split,is,used']\n",
      "['see,what,happens,when,split,is,used']\n",
      "['see,what,happens,when,split,', ',used']\n"
     ]
    }
   ],
   "execution_count": 34
  },
  {
   "metadata": {
    "ExecuteTime": {
     "end_time": "2025-09-30T06:59:06.541607Z",
     "start_time": "2025-09-30T06:59:06.530078Z"
    }
   },
   "cell_type": "code",
   "source": [
    "#join - will return string\n",
    "list = ['see,what,happens,when,split,is,used']\n",
    "print(\"is\".join(list))\n"
   ],
   "id": "a3eb8ec76746fee4",
   "outputs": [
    {
     "name": "stdout",
     "output_type": "stream",
     "text": [
      "see,what,happens,when,split,is,used\n"
     ]
    }
   ],
   "execution_count": 36
  },
  {
   "metadata": {
    "ExecuteTime": {
     "end_time": "2025-09-30T07:06:05.971319Z",
     "start_time": "2025-09-30T07:06:05.963992Z"
    }
   },
   "cell_type": "code",
   "source": [
    "words = [\"Python\",\"is\",\"good\"]\n",
    "print(','.join(words)) #Python,is,good\n",
    "print(' '.join(words)) #Python is good"
   ],
   "id": "ac0f1abceef69a17",
   "outputs": [
    {
     "name": "stdout",
     "output_type": "stream",
     "text": [
      "Python,is,good\n",
      "Python is good\n"
     ]
    }
   ],
   "execution_count": 39
  },
  {
   "metadata": {
    "ExecuteTime": {
     "end_time": "2025-09-30T07:17:10.192980Z",
     "start_time": "2025-09-30T07:17:10.185124Z"
    }
   },
   "cell_type": "code",
   "source": [
    "#data cleaning\n",
    "name = \"=, python,\"\n",
    "print(name.strip(\"=, \"))"
   ],
   "id": "aa4f5f92798de92d",
   "outputs": [
    {
     "name": "stdout",
     "output_type": "stream",
     "text": [
      "python\n"
     ]
    }
   ],
   "execution_count": 47
  },
  {
   "metadata": {
    "ExecuteTime": {
     "end_time": "2025-09-30T07:18:57.509540Z",
     "start_time": "2025-09-30T07:18:57.501026Z"
    }
   },
   "cell_type": "code",
   "source": [
    "#replace function\n",
    "\n",
    "csv = \"abc,def,ghi\"\n",
    "whitespace = csv.replace(\",\", \" \")\n",
    "print(whitespace)"
   ],
   "id": "fd115e96da17072d",
   "outputs": [
    {
     "name": "stdout",
     "output_type": "stream",
     "text": [
      "abc def ghi\n"
     ]
    }
   ],
   "execution_count": 48
  },
  {
   "metadata": {
    "ExecuteTime": {
     "end_time": "2025-09-30T07:34:12.711137Z",
     "start_time": "2025-09-30T07:34:12.699491Z"
    }
   },
   "cell_type": "code",
   "source": [
    "text = \"Python is fun @and: python is, a powerful programming language\"\n",
    "\n",
    "#remove punctiiation and lowercase\n",
    "#print(text.strip(\",!@#$%^&*>: \"))\n",
    "text = text.replace(\":\", \" \")\n",
    "text = text.replace(\",\",\" \")\n",
    "text = text.replace(\"@\",\" \")\n",
    "print(text)\n",
    "\n",
    "text = text.lower()\n",
    "print(text)\n",
    "\n",
    "w = text.split()\n",
    "\n",
    "count = 0\n",
    "largerst_word = \"\"\n",
    "max_length = 0\n",
    "for w in text:\n",
    "    count += 1\n",
    "\n",
    "    if len(w) > max_length:\n",
    "        max_length  = len(w)\n",
    "        largest_word = w\n",
    "\n",
    "print(\"Total words:\", count)\n",
    "print(\"Largest word:\", largest_word)\n",
    "print(\"Length of largest word:\", max_length)\n",
    "\n",
    "\n",
    "\n"
   ],
   "id": "610a73ccfdc91c2d",
   "outputs": [
    {
     "name": "stdout",
     "output_type": "stream",
     "text": [
      "Python is fun  and  python is  a powerful programming language\n",
      "python is fun  and  python is  a powerful programming language\n",
      "Total words: 62\n",
      "Largest word: p\n",
      "Length of largest word: 1\n"
     ]
    }
   ],
   "execution_count": 54
  },
  {
   "metadata": {},
   "cell_type": "code",
   "outputs": [],
   "execution_count": null,
   "source": [
    "def count_words(text):\n",
    "    # 1. Remove punctuation\n",
    "    text = text.replace(\":\", \"\")\n",
    "    text = text.replace(\",\", \"\")\n",
    "\n",
    "    # 2. Convert to lowercase\n",
    "    text = text.lower()\n",
    "\n",
    "    # 3. Split into list of words\n",
    "    words = text.split()\n",
    "\n",
    "    # 4. Count words using loop\n",
    "    word_count = 0\n",
    "    for word in words:\n",
    "        word_count += 1\n",
    "\n",
    "    # 5. Print results\n",
    "    print(\"Word List:\", words)\n",
    "    print(\"Total Words:\", word_count)\n",
    "\n",
    "\n",
    "# Test with your string\n",
    "text = \"Python is fun and: python is, a powerful programming language\"\n",
    "count_words(text)\n"
   ],
   "id": "fa04bbb4d752758b"
  },
  {
   "metadata": {
    "ExecuteTime": {
     "end_time": "2025-10-03T01:11:01.594093Z",
     "start_time": "2025-10-03T01:11:01.557514Z"
    }
   },
   "cell_type": "code",
   "source": [
    "text = \"java is good, I like java\"\n",
    "text.replace(\"java\", \"python\")\n",
    "\n",
    "word = \"Python is good\"\n",
    "print(word.split(\" \"))\n",
    "\n"
   ],
   "id": "ec6cc2a160fdda3",
   "outputs": [
    {
     "name": "stdout",
     "output_type": "stream",
     "text": [
      "['Python', 'is', 'good']\n"
     ]
    }
   ],
   "execution_count": 1
  },
  {
   "metadata": {
    "ExecuteTime": {
     "end_time": "2025-10-03T02:50:28.167534Z",
     "start_time": "2025-10-03T02:50:28.158924Z"
    }
   },
   "cell_type": "code",
   "source": [
    "from datetime import datetime as d\n",
    "from datetime import date\n",
    "\n",
    "time_now = d.now()\n",
    "date = date.today()\n",
    "print(time_now)\n",
    "print(date)\n"
   ],
   "id": "d78d5a12dee0f796",
   "outputs": [
    {
     "name": "stdout",
     "output_type": "stream",
     "text": [
      "2025-10-03 10:50:28.163990\n",
      "2025-10-03\n"
     ]
    }
   ],
   "execution_count": 24
  },
  {
   "metadata": {
    "ExecuteTime": {
     "end_time": "2025-10-03T01:43:37.172434Z",
     "start_time": "2025-10-03T01:43:23.597552Z"
    }
   },
   "cell_type": "code",
   "source": [
    "from datetime import date\n",
    "\n",
    "def calculate_age():\n",
    "    # Step 1: Get today's date\n",
    "    today = date.today()\n",
    "\n",
    "    # Step 2: Ask user for input\n",
    "    birth_year = int(input(\"Enter birth year (YYYY): \"))\n",
    "    birth_month = int(input(\"Enter birth month (1-12): \"))\n",
    "    birth_day = int(input(\"Enter birth day (1-31): \"))\n",
    "\n",
    "    # Step 3: Create date object for date of birth\n",
    "    dob = date(birth_year, birth_month, birth_day)\n",
    "\n",
    "    # Step 4: Calculate age\n",
    "    age = today.year - dob.year\n",
    "\n",
    "    # Step 5: Adjust if birthday hasn’t occurred yet this year\n",
    "    if (today.month, today.day) < (dob.month, dob.day):\n",
    "        age -= 1\n",
    "\n",
    "    # Step 6: Show result\n",
    "    print(\"Your age is:\", age)\n",
    "\n",
    "# Call the function\n",
    "calculate_age()\n"
   ],
   "id": "4b5855db92b921e6",
   "outputs": [
    {
     "name": "stdout",
     "output_type": "stream",
     "text": [
      "Your age is: 24\n"
     ]
    }
   ],
   "execution_count": 9
  },
  {
   "metadata": {
    "ExecuteTime": {
     "end_time": "2025-10-03T01:47:33.609180Z",
     "start_time": "2025-10-03T01:47:33.600242Z"
    }
   },
   "cell_type": "code",
   "source": [
    "#random function\n",
    "import random\n",
    "num = [10,20,30,40]\n",
    "print(random.choice(num))\n",
    "print(random.randint(1,10))"
   ],
   "id": "a327e4371556bbd3",
   "outputs": [
    {
     "name": "stdout",
     "output_type": "stream",
     "text": [
      "40\n",
      "7\n"
     ]
    }
   ],
   "execution_count": 14
  },
  {
   "metadata": {
    "ExecuteTime": {
     "end_time": "2025-10-03T01:54:38.859651Z",
     "start_time": "2025-10-03T01:54:38.847602Z"
    }
   },
   "cell_type": "code",
   "source": [
    "#assigning random num to the list and printing it\n",
    "import random\n",
    "\n",
    "students = [\"A\", \"B\", \"C\", \"D\", \"E\", \"F\", \"G\"]\n",
    "\n",
    "\n",
    "for s in students:\n",
    "    number = random.randint(1, 10)\n",
    "    print(s, \":\", number)\n"
   ],
   "id": "bb5a49ffdab44f45",
   "outputs": [
    {
     "name": "stdout",
     "output_type": "stream",
     "text": [
      "A : 8\n",
      "B : 2\n",
      "C : 3\n",
      "D : 2\n",
      "E : 8\n",
      "F : 3\n",
      "G : 8\n"
     ]
    }
   ],
   "execution_count": 17
  },
  {
   "metadata": {
    "ExecuteTime": {
     "end_time": "2025-10-03T03:14:04.291837Z",
     "start_time": "2025-10-03T03:14:04.147434Z"
    }
   },
   "cell_type": "code",
   "source": [
    "import random\n",
    "from matplotlib import pyplot as plt\n",
    "\n",
    "students = [\"A\",\"B\",\"C\",\"D\",\"E\",\"F\",\"G\"]\n",
    "scores = []\n",
    "\n",
    "\n",
    "for i in range(len(students)):\n",
    "    score = random.randint(0, 100)\n",
    "    scores.append(score)\n",
    "\n",
    "for i in range(len(students)):\n",
    "    print(students[i], \":\", scores[i])\n",
    "\n",
    "high = scores[0]\n",
    "topper = students[0]\n",
    "\n",
    "for i in range(1, len(scores)):\n",
    "    if scores[i] > high:\n",
    "        high = scores[i]\n",
    "        topper = students[i]\n",
    "\n",
    "print(\"Topper is\", topper, \"with score\", high)\n",
    "\n",
    "plt.bar(students, scores)  # use bar chart\n",
    "plt.xlabel(\"Students\")\n",
    "plt.ylabel(\"Scores\")\n",
    "plt.title(\"Students vs Scores\")\n",
    "plt.show()"
   ],
   "id": "892b1900a1c2b45b",
   "outputs": [
    {
     "name": "stdout",
     "output_type": "stream",
     "text": [
      "A : 1\n",
      "B : 30\n",
      "C : 22\n",
      "D : 93\n",
      "E : 50\n",
      "F : 54\n",
      "G : 51\n",
      "Topper is D with score 93\n"
     ]
    },
    {
     "data": {
      "text/plain": [
       "<Figure size 640x480 with 1 Axes>"
      ],
      "image/png": "[encoded data removed]"
     },
     "metadata": {},
     "output_type": "display_data",
     "jetTransient": {
      "display_id": null
     }
    }
   ],
   "execution_count": 7
  },
  {
   "metadata": {
    "ExecuteTime": {
     "end_time": "2025-10-03T03:05:09.672070Z",
     "start_time": "2025-10-03T03:05:09.045509Z"
    }
   },
   "cell_type": "code",
   "source": [
    "from matplotlib import pyplot as plt\n",
    "import random\n",
    "x = range(1, 11)\n",
    "y = random.sample(range(1000), 10)\n",
    "plt.plot(x, y)\n",
    "plt.show()"
   ],
   "id": "a22850a04f121db5",
   "outputs": [
    {
     "data": {
      "text/plain": [
       "<Figure size 640x480 with 1 Axes>"
      ],
      "image/png": "[encoded data removed]"
     },
     "metadata": {},
     "output_type": "display_data",
     "jetTransient": {
      "display_id": null
     }
    }
   ],
   "execution_count": 1
  },
  {
   "metadata": {
    "ExecuteTime": {
     "end_time": "2025-10-03T03:37:45.748170Z",
     "start_time": "2025-10-03T03:37:45.587977Z"
    }
   },
   "cell_type": "code",
   "source": [
    "import random\n",
    "from matplotlib import pyplot as plt\n",
    "\n",
    "days = [\"Monday\",\"Tuesday\",\"Wednesday\",\"Thursday\",\"Friday\",\"Saturday\",\"Sunday\"]\n",
    "temp = []\n",
    "\n",
    "\n",
    "for i in range(len(days)):\n",
    "    t = random.randint(0, 100)\n",
    "    temp.append(t)\n",
    "\n",
    "\n",
    "for i in range(len(days)):\n",
    "    print(days[i], \":\", temp[i])\n",
    "\n",
    "\n",
    "plt.plot(days, temp)\n",
    "plt.xlabel(\"Days\")\n",
    "plt.ylabel(\"Temperature\")\n",
    "plt.title(\"Days vs Temperature\")\n",
    "plt.show()\n"
   ],
   "id": "3e6743dbc3ab0578",
   "outputs": [
    {
     "name": "stdout",
     "output_type": "stream",
     "text": [
      "Monday : 37\n",
      "Tuesday : 73\n",
      "Wednesday : 0\n",
      "Thursday : 0\n",
      "Friday : 21\n",
      "Saturday : 48\n",
      "Sunday : 16\n"
     ]
    },
    {
     "data": {
      "text/plain": [
       "<Figure size 640x480 with 1 Axes>"
      ],
      "image/png": "[encoded data removed]"
     },
     "metadata": {},
     "output_type": "display_data",
     "jetTransient": {
      "display_id": null
     }
    }
   ],
   "execution_count": 14
  },
  {
   "metadata": {
    "ExecuteTime": {
     "end_time": "2025-10-03T03:49:04.292262Z",
     "start_time": "2025-10-03T03:49:04.283556Z"
    }
   },
   "cell_type": "code",
   "source": [
    "cost1 = 0.10\n",
    "cost2 = 0.20\n",
    "total = cost1+ cost2\n",
    "print(total)\n",
    "#0.30000000000000004 this one not appropriate out for any client"
   ],
   "id": "20d273df633fae4",
   "outputs": [
    {
     "name": "stdout",
     "output_type": "stream",
     "text": [
      "0.30000000000000004\n"
     ]
    }
   ],
   "execution_count": 19
  },
  {
   "metadata": {
    "ExecuteTime": {
     "end_time": "2025-10-03T03:48:51.083334Z",
     "start_time": "2025-10-03T03:48:51.075001Z"
    }
   },
   "cell_type": "code",
   "source": [
    "#using Decimal giving the appropriate result\n",
    "from decimal import Decimal as D\n",
    "\n",
    "cost1 = D(\"0.10\")\n",
    "cost2 = D(\"0.20\")\n",
    "total = cost1+ cost2\n",
    "print(total)"
   ],
   "id": "9df6b4d5d5ed77b",
   "outputs": [
    {
     "name": "stdout",
     "output_type": "stream",
     "text": [
      "0.30\n"
     ]
    }
   ],
   "execution_count": 18
  },
  {
   "metadata": {
    "ExecuteTime": {
     "end_time": "2025-10-07T07:08:45.759388Z",
     "start_time": "2025-10-07T07:08:45.755236Z"
    }
   },
   "cell_type": "code",
   "source": [
    "gradebook = {\n",
    "    'Jing': 35,\n",
    "    'Jim': 50,\n",
    "    'Kerrie': 65,\n",
    "    'Rakesh': 85\n",
    "}\n",
    "\n",
    "gradebook.pop('Jing')\n",
    "print(gradebook)\n",
    "\n",
    "try:\n",
    "    gradebook.pop('Jane')\n",
    "    print(\"Jane removed successfully\")\n",
    "except KeyError:\n",
    "    print(\"Key not found: Jane\")\n"
   ],
   "id": "9bafa87c038cf53e",
   "outputs": [
    {
     "name": "stdout",
     "output_type": "stream",
     "text": [
      "{'Jim': 50, 'Kerrie': 65, 'Rakesh': 85}\n"
     ]
    }
   ],
   "execution_count": 2
  },
  {
   "metadata": {
    "ExecuteTime": {
     "end_time": "2025-10-07T07:12:11.404467Z",
     "start_time": "2025-10-07T07:12:11.400165Z"
    }
   },
   "cell_type": "code",
   "source": [
    "gradebook = {\n",
    "    'Jing': 35,\n",
    "    'Jim': 50,\n",
    "    'Kerrie': 65,\n",
    "    'Rakesh': 85\n",
    "}\n",
    "print(gradebook.keys())"
   ],
   "id": "b3c550d3a7d63342",
   "outputs": [
    {
     "name": "stdout",
     "output_type": "stream",
     "text": [
      "dict_keys(['Jing', 'Jim', 'Kerrie', 'Rakesh'])\n"
     ]
    }
   ],
   "execution_count": 4
  },
  {
   "metadata": {
    "ExecuteTime": {
     "end_time": "2025-10-07T07:23:24.360270Z",
     "start_time": "2025-10-07T07:23:24.355357Z"
    }
   },
   "cell_type": "code",
   "source": [
    "gradebook = {\n",
    "    'Jing': 35,\n",
    "    'Jim': 50,\n",
    "    'Kerrie': 65,\n",
    "    'Rakesh': 85\n",
    "}\n",
    "\n",
    "for name in gradebook:\n",
    "    value = gradebook[name]\n",
    "    print(name, \"has value\", value)\n",
    "\n"
   ],
   "id": "49827a17facb9c9a",
   "outputs": [
    {
     "name": "stdout",
     "output_type": "stream",
     "text": [
      "Jing has value 35\n",
      "Jim has value 50\n",
      "Kerrie has value 65\n",
      "Rakesh has value 85\n"
     ]
    }
   ],
   "execution_count": 7
  },
  {
   "metadata": {
    "ExecuteTime": {
     "end_time": "2025-10-07T07:43:40.790295Z",
     "start_time": "2025-10-07T07:43:40.785436Z"
    }
   },
   "cell_type": "code",
   "source": [
    "#activity\n",
    "\n",
    "fruits = [\"Apple\", \"Mango\", \"Apple\", \"Mango\", \"Kiwi\", \"Banana\"]\n",
    "\n",
    "fruit_count = {} #creatinng dictionary to have value as key:value\n",
    "\n",
    "for f in fruits:\n",
    "    if f in fruit_count:\n",
    "        fruit_count[f] = fruit_count[f] + 1\n",
    "    else:\n",
    "        fruit_count[f] = 1\n",
    "\n",
    "\n",
    "for fruits in fruit_count:\n",
    "    print(fruits, \"appears\", fruit_count[fruits], \"times\")\n",
    "\n"
   ],
   "id": "adb8d697ca24004",
   "outputs": [
    {
     "name": "stdout",
     "output_type": "stream",
     "text": [
      "Apple appears 2 times\n",
      "Mango appears 2 times\n",
      "Kiwi appears 1 times\n",
      "Banana appears 1 times\n"
     ]
    }
   ],
   "execution_count": 10
  },
  {
   "metadata": {
    "ExecuteTime": {
     "end_time": "2025-10-10T01:27:32.009909Z",
     "start_time": "2025-10-10T01:27:32.001501Z"
    }
   },
   "cell_type": "code",
   "source": [
    "import os\n",
    "\n",
    "path = r\"C:\\Users\\USER\\OneDrive\\STAT2401-Analysis of Experiments\\Assignment2\\x.txt\"\n",
    "print(os.path.exists(path))\n",
    "\n"
   ],
   "id": "c902f7967c37d434",
   "outputs": [
    {
     "name": "stdout",
     "output_type": "stream",
     "text": [
      "False\n"
     ]
    }
   ],
   "execution_count": 4
  },
  {
   "metadata": {
    "ExecuteTime": {
     "end_time": "2025-10-10T01:40:59.447461Z",
     "start_time": "2025-10-10T01:40:59.438989Z"
    }
   },
   "cell_type": "code",
   "source": [
    "with open(r\"s.txt.txt\", \"r\") as file:\n",
    "    data = file.read()\n",
    "    print(data)\n"
   ],
   "id": "7ab0f2a72d0aeaec",
   "outputs": [
    {
     "name": "stdout",
     "output_type": "stream",
     "text": [
      "I am from Bangladesh\n"
     ]
    }
   ],
   "execution_count": 9
  },
  {
   "metadata": {
    "ExecuteTime": {
     "end_time": "2025-10-10T01:39:18.758082Z",
     "start_time": "2025-10-10T01:39:18.747340Z"
    }
   },
   "cell_type": "code",
   "source": [
    "with open(r\"C:\\Users\\USER\\PyCharmMiscProject\\FileDemoRead.py\", \"r\") as file:\n",
    "    data = file.read()\n",
    "    print(data)\n"
   ],
   "id": "4b32d8b1c3094556",
   "outputs": [
    {
     "name": "stdout",
     "output_type": "stream",
     "text": [
      "# Accessing a text file to read the data from it.\n",
      "# Change the path relevant to where you have saved the files.\n",
      "fr = open(\"C:\\\\Users\\\\saud\\\\PycharmProjects\\\\pythonProject\\\\education.txt\", \"r\")\n",
      "\n",
      "# Read all the data from the text file and display it on the terminal/console\n",
      "print(fr.read())\n",
      "\n",
      "# Close the text file after reading the data from it\n",
      "fr.close()\n",
      "\n"
     ]
    }
   ],
   "execution_count": 8
  },
  {
   "metadata": {
    "ExecuteTime": {
     "end_time": "2025-10-10T01:53:39.925329Z",
     "start_time": "2025-10-10T01:53:39.917167Z"
    }
   },
   "cell_type": "code",
   "source": [
    "#================================\n",
    "with open(r\"s.txt.txt\", \"r\") as file:\n",
    "    #this will real each line of the file step by step\n",
    "    for f in file:\n",
    "        print(f)\n"
   ],
   "id": "3dbe7fbbf64b71fa",
   "outputs": [
    {
     "name": "stdout",
     "output_type": "stream",
     "text": [
      "I am from Bangladesh.\n",
      "\n",
      "I am Shaneen!!!\n",
      "\n",
      "We are in the same class.\n"
     ]
    }
   ],
   "execution_count": 18
  },
  {
   "metadata": {
    "ExecuteTime": {
     "end_time": "2025-10-10T01:54:59.073523Z",
     "start_time": "2025-10-10T01:54:59.064872Z"
    }
   },
   "cell_type": "code",
   "source": [
    "with open(r\"s.txt.txt\", \"r\") as file:\n",
    "    print(file.readline()) #this one will read only one line"
   ],
   "id": "e4cd0c5415dc4d95",
   "outputs": [
    {
     "name": "stdout",
     "output_type": "stream",
     "text": [
      "I am from Bangladesh.\n",
      "\n"
     ]
    }
   ],
   "execution_count": 19
  },
  {
   "metadata": {
    "ExecuteTime": {
     "end_time": "2025-10-10T02:01:50.725737Z",
     "start_time": "2025-10-10T02:01:50.716938Z"
    }
   },
   "cell_type": "code",
   "source": [
    "with open(r\"s.txt.txt\", \"r\") as file:\n",
    "    lines = file.readlines()\n",
    "    #print(lines[1])#2nd line will printed\n",
    "    #print(lines[2])#3rd line will be printed\n",
    "    for line in lines[1:]:\n",
    "        print(line.strip())#.strip() method removes unwanted whitespace (like spaces, tabs, and newlines) from both the beginning and end of a string."
   ],
   "id": "89d2508031b66e1d",
   "outputs": [
    {
     "name": "stdout",
     "output_type": "stream",
     "text": [
      "I am Shaneen!!!\n",
      "We are in the same class.\n"
     ]
    }
   ],
   "execution_count": 22
  },
  {
   "metadata": {
    "ExecuteTime": {
     "end_time": "2025-10-10T02:16:52.991640Z",
     "start_time": "2025-10-10T02:16:52.981357Z"
    }
   },
   "cell_type": "code",
   "source": [
    "with open(\"s.txt.txt\", \"r\") as file:\n",
    "    line = file.readline()   # read the first line\n",
    "    while line != \"\":        # stop when end of file is reached\n",
    "        print(line.strip())\n",
    "        line = file.readline()   # read the next line\n"
   ],
   "id": "edbe3a7bb8b8c91e",
   "outputs": [
    {
     "name": "stdout",
     "output_type": "stream",
     "text": [
      "I am from Bangladesh.\n",
      "I am Shaneen!!!\n",
      "We are in the same class.\n"
     ]
    }
   ],
   "execution_count": 32
  },
  {
   "metadata": {
    "ExecuteTime": {
     "end_time": "2025-10-10T02:50:04.556211Z",
     "start_time": "2025-10-10T02:50:04.535826Z"
    }
   },
   "cell_type": "code",
   "source": [
    "import csv\n",
    "\n",
    "gradebook = {}\n",
    "\n",
    "with open(\"gradebook.csv\", newline='') as file:\n",
    "    data = csv.DictReader(file)\n",
    "    for row in data:\n",
    "        gradebook[row['student']] = row['grade']\n",
    "        print(row['student'], row['grade'])\n",
    "\n",
    "print(gradebook)\n"
   ],
   "id": "1bd1dc95ab910261",
   "outputs": [
    {
     "name": "stdout",
     "output_type": "stream",
     "text": [
      "Jing 35\n",
      "Jim 50\n",
      "Kerrie 65\n",
      "Rakesh 85\n",
      "{'Jing': '35', 'Jim': '50', 'Kerrie': '65', 'Rakesh': '85'}\n"
     ]
    }
   ],
   "execution_count": 38
  },
  {
   "metadata": {
    "ExecuteTime": {
     "end_time": "2025-10-10T03:12:41.239087Z",
     "start_time": "2025-10-10T03:12:41.232192Z"
    }
   },
   "cell_type": "code",
   "source": [
    "import csv, os\n",
    "with open(\"gradebook_headers_removed.csv\") as file:\n",
    "    reader = csv.reader(file)\n",
    "    gradebook = dict(reader)\n",
    "print(gradebook)\n"
   ],
   "id": "84ce8b115e42ddc9",
   "outputs": [
    {
     "name": "stdout",
     "output_type": "stream",
     "text": [
      "{'Jing': '35', 'Jim': '50', 'Kerrie': '65', 'Rakesh': '85'}\n"
     ]
    }
   ],
   "execution_count": 49
  },
  {
   "metadata": {
    "ExecuteTime": {
     "end_time": "2025-10-10T03:10:00.344921Z",
     "start_time": "2025-10-10T03:10:00.335033Z"
    }
   },
   "cell_type": "code",
   "source": [
    "import json\n",
    "with open('purchase.json') as file:\n",
    "    data = json.load(file)\n",
    "print(data)"
   ],
   "id": "d28adfd97973d9",
   "outputs": [
    {
     "name": "stdout",
     "output_type": "stream",
     "text": [
      "{'user': 'James', 'action': 'Buy', 'item_id': 78192, 'price': 39.99}\n"
     ]
    }
   ],
   "execution_count": 47
  },
  {
   "metadata": {
    "ExecuteTime": {
     "end_time": "2025-10-10T03:24:57.514759Z",
     "start_time": "2025-10-10T03:24:57.502203Z"
    }
   },
   "cell_type": "code",
   "source": [
    "import csv\n",
    "\n",
    "\n",
    "with open(\"1873900_khadiza Rahman Meem.py\", \"a\") as file:\n",
    "\n",
    "    file.write(\"This is python program\\n\")\n",
    "    #file.write(\"This one is my updated notes.\\n\")\n",
    "    #file.write(\"Wow!\\n\")\n",
    "\n",
    "\n",
    "print(\"Data has been written to demo_output.txt\")\n",
    "\n"
   ],
   "id": "5cee70dc2ee26802",
   "outputs": [
    {
     "name": "stdout",
     "output_type": "stream",
     "text": [
      "Data has been written to demo_output.txt\n"
     ]
    }
   ],
   "execution_count": 56
  },
  {
   "metadata": {
    "ExecuteTime": {
     "end_time": "2025-10-10T03:24:48.689005Z",
     "start_time": "2025-10-10T03:24:48.679299Z"
    }
   },
   "cell_type": "code",
   "source": [
    "\n",
    "with open(\"1873900_khadiza Rahman Meem.py\", \"w\") as fr:\n",
    "    # Use a for loop to write \"Shaneen\" 5 times (for example)\n",
    "    for i in range(5):\n",
    "        fr.write(\"Shaneen\\n\")  # \\n adds a new line after each write\n",
    "\n",
    "print(\"Data has been written to FileDemoWrite.txt\")\n"
   ],
   "id": "e322a995976173e2",
   "outputs": [
    {
     "name": "stdout",
     "output_type": "stream",
     "text": [
      "Data has been written to FileDemoWrite.txt\n"
     ]
    }
   ],
   "execution_count": 55
  },
  {
   "metadata": {
    "ExecuteTime": {
     "end_time": "2025-10-14T03:34:52.215762Z",
     "start_time": "2025-10-14T03:34:52.181404Z"
    }
   },
   "cell_type": "code",
   "source": [
    "import csv\n",
    "gradebook = {'Jing': '35', 'Jim': '50', 'Kerrie': '65', 'Rakesh': '85'}\n",
    "with open('output.csv', 'w', newline='') as file:\n",
    "    writer = csv.writer(file)\n",
    "    for key, value in gradebook.items():\n",
    "        writer.writerow([key, value])"
   ],
   "id": "c4a103458d8f74bc",
   "outputs": [],
   "execution_count": 1
  },
  {
   "metadata": {
    "ExecuteTime": {
     "end_time": "2025-10-14T03:38:07.405026Z",
     "start_time": "2025-10-14T03:38:07.393584Z"
    }
   },
   "cell_type": "code",
   "source": [
    "#without using item()\n",
    "import csv\n",
    "\n",
    "gradebook = {'Jing': '35', 'Jim': '50', 'Kerrie': '65', 'Rakesh': '85'}\n",
    "\n",
    "with open('output.csv', 'w', newline='') as file:\n",
    "    writer = csv.writer(file)\n",
    "    for key in gradebook.keys():  # loop over keys\n",
    "        value = gradebook[key]    # get value using the key\n",
    "        writer.writerow([key, value])\n"
   ],
   "id": "b59762140c30e86f",
   "outputs": [],
   "execution_count": 3
  },
  {
   "metadata": {},
   "cell_type": "code",
   "outputs": [],
   "execution_count": null,
   "source": [
    "import os\n",
    "if os.path.exists(<file>):\n",
    "# checking <file> exists <file object> = open(<file>, 'r')\n",
    "# <code to run for processing data from file>\n",
    "# <file object>.close()\n",
    "# else:\n",
    "# the <file> does not exist <code to run when <file> doesn’t exist>"
   ],
   "id": "c6cbb8ed32289d0d"
  },
  {
   "metadata": {
    "ExecuteTime": {
     "end_time": "2025-10-14T05:49:03.670029Z",
     "start_time": "2025-10-14T05:49:03.659760Z"
    }
   },
   "cell_type": "code",
   "source": [
    "import csv\n",
    "fr = open(\"industry2.txt\", 'r')\n",
    "for ln in fr:\n",
    "    ln = ln.rstrip('\\n')\n",
    "    temp = ln.split(':')\n",
    "    print(\"Name: \" + temp[0])\n",
    "    print(\"Occupation: \" + temp[1])\n",
    "    print(\"Age: \" + temp[2])\n",
    "    print(\"City: \" + temp[3])\n"
   ],
   "id": "e8d0b790e7698da9",
   "outputs": [
    {
     "name": "stdout",
     "output_type": "stream",
     "text": [
      "Name: Mark James\n",
      "Occupation: Plumber\n",
      "Age: 26\n",
      "City: Melbourne\n",
      "Name: Kate Madison\n",
      "Occupation: Accountant\n",
      "Age: 29\n",
      "City: Newcastle\n",
      "Name: Anne Chan\n",
      "Occupation: Dentist\n",
      "Age: 33\n",
      "City: Sydney\n",
      "Name: Anthony Johnson\n",
      "Occupation: Mechanic\n",
      "Age: 24\n",
      "City: Brisbane\n",
      "Name: Sarah Miller\n",
      "Occupation: Teacher\n",
      "Age: 31\n",
      "City: Perth\n",
      "Name: Helen Jade\n",
      "Occupation: Hairdresser\n",
      "Age: 27\n",
      "City: Hobart\n"
     ]
    }
   ],
   "execution_count": 16
  },
  {
   "metadata": {
    "ExecuteTime": {
     "end_time": "2025-10-14T05:49:52.666373Z",
     "start_time": "2025-10-14T05:49:52.657739Z"
    }
   },
   "cell_type": "code",
   "source": [
    "variable1 = \"Shaneen\"\n",
    "print(type(variable1))"
   ],
   "id": "490bb8860d8c95f5",
   "outputs": [
    {
     "name": "stdout",
     "output_type": "stream",
     "text": [
      "<class 'str'>\n"
     ]
    }
   ],
   "execution_count": 19
  },
  {
   "metadata": {
    "ExecuteTime": {
     "end_time": "2025-10-14T06:13:34.186450Z",
     "start_time": "2025-10-14T06:13:34.177540Z"
    }
   },
   "cell_type": "code",
   "source": [
    "class car:\n",
    "    #public attribute\n",
    "    car_name =  \"Toyota\"#attributes of the class - car\n",
    "    car_clr = \"Blue\"\n",
    "    car_model =  \"A\"\n",
    "    __rego = \"sz098\"\n",
    "    __vechicle_num = \"123\"\n",
    "owner1 = car()#here, owner is the obj where the characteristics of car is assigning so that it can be access in the nest line of the code\n",
    "owner2 = car()\n",
    "print(owner1.car_clr)\n",
    "print(owner2.car_clr)\n",
    "print(owner1.car_name)\n",
    "print(owner2.car_name)\n",
    "print(owner1.car_model)\n",
    "print(owner2.car_model)\n",
    "print(owner1._car__rego)\n",
    "print(owner2._car__vechicle_num)"
   ],
   "id": "9c114119c941e97c",
   "outputs": [
    {
     "name": "stdout",
     "output_type": "stream",
     "text": [
      "Blue\n",
      "Blue\n",
      "Toyota\n",
      "Toyota\n",
      "A\n",
      "A\n",
      "sz098\n",
      "123\n"
     ]
    }
   ],
   "execution_count": 30
  },
  {
   "metadata": {
    "ExecuteTime": {
     "end_time": "2025-10-14T06:21:20.413446Z",
     "start_time": "2025-10-14T06:21:20.403031Z"
    }
   },
   "cell_type": "code",
   "source": [
    "#constructors\n",
    "#1. define one method to initialize variables\n",
    "#2. when a num obj is made\n",
    "#3. different values will be stored\n",
    "\n",
    "class car:\n",
    "    #car_name = \"toyota\" is for public attribute\n",
    "    def __init__(self, car_name, car_clr):#self means get the value from own class\n",
    "        self.car_name = car_name\n",
    "        self.car_clr = car_clr\n",
    "shaneen=car(\"Toyota\", \"Blue\")\n",
    "khadiza=car(\"Audi\", \"Red\")\n",
    "print(shaneen.car_name)\n",
    "print(khadiza.car_clr)\n"
   ],
   "id": "98b9a91f4ae47bbc",
   "outputs": [
    {
     "name": "stdout",
     "output_type": "stream",
     "text": [
      "Toyota\n",
      "Red\n"
     ]
    }
   ],
   "execution_count": 36
  },
  {
   "metadata": {
    "ExecuteTime": {
     "end_time": "2025-10-14T06:55:50.333529Z",
     "start_time": "2025-10-14T06:55:50.319229Z"
    }
   },
   "cell_type": "code",
   "source": [
    "class Car:\n",
    "    wheels = 4  # class variable\n",
    "\n",
    "    def __init__(self, colour):\n",
    "        self.colour = colour  # instance variable\n",
    "\n",
    "# create objects *outside* the class\n",
    "car1 = Car(\"White\")\n",
    "car2 = Car(\"Black\")\n",
    "\n",
    "# print info\n",
    "print(car1.colour)\n",
    "print(car2.colour)\n",
    "print(car1.wheels)\n",
    "print(car2.wheels)\n"
   ],
   "id": "85d3828ce7efa98f",
   "outputs": [
    {
     "name": "stdout",
     "output_type": "stream",
     "text": [
      "White\n",
      "Black\n",
      "4\n",
      "4\n"
     ]
    }
   ],
   "execution_count": 40
  },
  {
   "metadata": {
    "ExecuteTime": {
     "end_time": "2025-10-14T07:00:25.306356Z",
     "start_time": "2025-10-14T07:00:25.295745Z"
    }
   },
   "cell_type": "code",
   "source": [
    "# creating class called 'Car'\n",
    "class Car:\n",
    "    # creating 2 public class/static variables for 'Car' class\n",
    "    color = \"Blue\"\n",
    "    price = 45000.00\n",
    "# Accessing through the class\n",
    "print(Car.color)\n",
    "print(Car.price)\n",
    "\n",
    "# Creating objects\n",
    "car1 = Car()\n",
    "car2 = Car()\n",
    "\n",
    "# Accessing through objects\n",
    "print(car1.color)\n",
    "print(car2.price)\n"
   ],
   "id": "6a2c6eb3e4386ffc",
   "outputs": [
    {
     "name": "stdout",
     "output_type": "stream",
     "text": [
      "Blue\n",
      "45000.0\n",
      "Blue\n",
      "45000.0\n"
     ]
    }
   ],
   "execution_count": 41
  },
  {
   "metadata": {},
   "cell_type": "code",
   "outputs": [],
   "execution_count": null,
   "source": [
    "class car:\n",
    "    def __init__(selfself):\n",
    "        self.regNo = \"123\"\n"
   ],
   "id": "a2e8ba48a7e28ea5"
  },
  {
   "metadata": {
    "ExecuteTime": {
     "end_time": "2025-10-14T07:39:23.292746Z",
     "start_time": "2025-10-14T07:39:23.237237Z"
    }
   },
   "cell_type": "code",
   "source": [
    "class Fruit:\n",
    "    category = \"Food\"   # class variable\n",
    "\n",
    "    def __init__(self, name, color, taste, price, shape):\n",
    "        self.name = name\n",
    "        self.color = color\n",
    "        self.taste = taste\n",
    "        self.price = price\n",
    "        self.__shape = shape\n",
    "\n",
    "\n",
    "fruit1 = Fruit(\"Mango\", \"Yellow\", \"Sweet\", 250.00, \"Round\")\n",
    "fruit2 = Fruit(\"Orange\", \"Orange\", \"Sour\", 340.00, \"Curve\")\n",
    "\n",
    "print(fruit1.name)\n",
    "print(fruit2.color)\n",
    "print(fruit1.category)\n",
    "print(fruit2.taste)\n",
    "print(fruit1.price)\n",
    "print(fruit1.__shape)\n"
   ],
   "id": "e5f7317eb883c7a8",
   "outputs": [
    {
     "name": "stdout",
     "output_type": "stream",
     "text": [
      "Mango\n",
      "Orange\n",
      "Food\n",
      "Sour\n",
      "250.0\n"
     ]
    },
    {
     "ename": "AttributeError",
     "evalue": "'Fruit' object has no attribute '__shape'",
     "output_type": "error",
     "traceback": [
      "\u001B[31m---------------------------------------------------------------------------\u001B[39m",
      "\u001B[31mAttributeError\u001B[39m                            Traceback (most recent call last)",
      "\u001B[36mCell\u001B[39m\u001B[36m \u001B[39m\u001B[32mIn[49]\u001B[39m\u001B[32m, line 20\u001B[39m\n\u001B[32m     18\u001B[39m \u001B[38;5;28mprint\u001B[39m(fruit2.taste)\n\u001B[32m     19\u001B[39m \u001B[38;5;28mprint\u001B[39m(fruit1.price)\n\u001B[32m---> \u001B[39m\u001B[32m20\u001B[39m \u001B[38;5;28mprint\u001B[39m(\u001B[43mfruit1\u001B[49m\u001B[43m.\u001B[49m\u001B[43m__shape\u001B[49m)\n",
      "\u001B[31mAttributeError\u001B[39m: 'Fruit' object has no attribute '__shape'"
     ]
    }
   ],
   "execution_count": 49
  },
  {
   "metadata": {
    "ExecuteTime": {
     "end_time": "2025-10-14T07:47:08.521821Z",
     "start_time": "2025-10-14T07:47:08.415102Z"
    }
   },
   "cell_type": "code",
   "source": [
    "class Animal:\n",
    "    def __init__(self, name, color):\n",
    "        self.breed = \"Bird\"\n",
    "        self.name = name\n",
    "        self.color =color\n",
    "\n",
    "    def print_char(self):\n",
    "        print(\"Hi, I am a bird and I can fly.\")\n",
    "\n",
    "    @staticmethod\n",
    "    def main():\n",
    "        obj = Animal()\n",
    "        obj.print_char()\n",
    "\n",
    "\n",
    "Animal.main()\n"
   ],
   "id": "56fbd0d1279e8d62",
   "outputs": [
    {
     "ename": "TypeError",
     "evalue": "Animal.__init__() missing 2 required positional arguments: 'name' and 'color'",
     "output_type": "error",
     "traceback": [
      "\u001B[31m---------------------------------------------------------------------------\u001B[39m",
      "\u001B[31mTypeError\u001B[39m                                 Traceback (most recent call last)",
      "\u001B[36mCell\u001B[39m\u001B[36m \u001B[39m\u001B[32mIn[53]\u001B[39m\u001B[32m, line 16\u001B[39m\n\u001B[32m     12\u001B[39m         obj = Animal()\n\u001B[32m     13\u001B[39m         obj.print_char()\n\u001B[32m---> \u001B[39m\u001B[32m16\u001B[39m \u001B[43mAnimal\u001B[49m\u001B[43m.\u001B[49m\u001B[43mmain\u001B[49m\u001B[43m(\u001B[49m\u001B[43m)\u001B[49m\n",
      "\u001B[36mCell\u001B[39m\u001B[36m \u001B[39m\u001B[32mIn[53]\u001B[39m\u001B[32m, line 12\u001B[39m, in \u001B[36mAnimal.main\u001B[39m\u001B[34m()\u001B[39m\n\u001B[32m     10\u001B[39m \u001B[38;5;129m@staticmethod\u001B[39m\n\u001B[32m     11\u001B[39m \u001B[38;5;28;01mdef\u001B[39;00m\u001B[38;5;250m \u001B[39m\u001B[34mmain\u001B[39m():\n\u001B[32m---> \u001B[39m\u001B[32m12\u001B[39m     obj = \u001B[43mAnimal\u001B[49m\u001B[43m(\u001B[49m\u001B[43m)\u001B[49m\n\u001B[32m     13\u001B[39m     obj.print_char()\n",
      "\u001B[31mTypeError\u001B[39m: Animal.__init__() missing 2 required positional arguments: 'name' and 'color'"
     ]
    }
   ],
   "execution_count": 53
  }
 ],
 "metadata": {
  "kernelspec": {
   "display_name": "Python 3",
   "language": "python",
   "name": "python3"
  },
  "language_info": {
   "codemirror_mode": {
    "name": "ipython",
    "version": 2
   },
   "file_extension": ".py",
   "mimetype": "text/x-python",
   "name": "python",
   "nbconvert_exporter": "python",
   "pygments_lexer": "ipython2",
   "version": "2.7.6"
  }
 },
 "nbformat": 4,
 "nbformat_minor": 5
}
